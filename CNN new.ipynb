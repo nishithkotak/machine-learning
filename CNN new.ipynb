{
  "nbformat": 4,
  "nbformat_minor": 0,
  "metadata": {
    "colab": {
      "name": "CNN.ipynb",
      "provenance": [],
      "authorship_tag": "ABX9TyPGfIsDhlzZsSPPR/mscaa9"
    },
    "kernelspec": {
      "name": "python3",
      "display_name": "Python 3"
    }
  },
  "cells": [
    {
      "cell_type": "code",
      "metadata": {
        "id": "ZRu9ndDu3Asu"
      },
      "source": [
        "import numpy as np\n",
        "import numpy.random as nr\n",
        "import matplotlib.pyplot as plt\n",
        "import keras\n",
        "from keras.datasets import mnist\n",
        "import keras.utils.np_utils as ku\n",
        "import keras.models as models\n",
        "import keras.layers as layers\n",
        "from keras import regularizers\n",
        "from keras.layers import Dropout\n",
        "#from keras.optimizers import rmsprop, Adam\n",
        "from keras.utils import to_categorical"
      ],
      "execution_count": 1,
      "outputs": []
    },
    {
      "cell_type": "code",
      "metadata": {
        "id": "fJ_vghKN2h6L"
      },
      "source": [
        "%matplotlib inline"
      ],
      "execution_count": 2,
      "outputs": []
    },
    {
      "cell_type": "code",
      "metadata": {
        "id": "sHFZSQyh0-SP"
      },
      "source": [
        "import tensorflow as tf\n"
      ],
      "execution_count": 3,
      "outputs": []
    },
    {
      "cell_type": "code",
      "metadata": {
        "id": "YxnOb8v4qr0A"
      },
      "source": [
        "from tensorflow.keras.models import Sequential\n",
        "from tensorflow.keras.layers import Dense, Dropout, Activation, Flatten\n",
        "from tensorflow.keras.layers import Conv2D"
      ],
      "execution_count": 4,
      "outputs": []
    },
    {
      "cell_type": "code",
      "metadata": {
        "id": "LzSDhVWy-aQm",
        "colab": {
          "base_uri": "https://localhost:8080/"
        },
        "outputId": "48d24bcd-243b-4ef9-c425-3a2798500093"
      },
      "source": [
        "print(keras.__version__)"
      ],
      "execution_count": 5,
      "outputs": [
        {
          "output_type": "stream",
          "text": [
            "2.4.3\n"
          ],
          "name": "stdout"
        }
      ]
    },
    {
      "cell_type": "code",
      "metadata": {
        "id": "YakI7Ba7sXzK",
        "colab": {
          "base_uri": "https://localhost:8080/"
        },
        "outputId": "4daa7d97-a4f8-4b8a-a356-176dbcdb0271"
      },
      "source": [
        "from keras.datasets import fashion_mnist\n",
        "(train_X,train_Y), (test_X,test_Y) = fashion_mnist.load_data()"
      ],
      "execution_count": 6,
      "outputs": [
        {
          "output_type": "stream",
          "text": [
            "Downloading data from https://storage.googleapis.com/tensorflow/tf-keras-datasets/train-labels-idx1-ubyte.gz\n",
            "32768/29515 [=================================] - 0s 0us/step\n",
            "Downloading data from https://storage.googleapis.com/tensorflow/tf-keras-datasets/train-images-idx3-ubyte.gz\n",
            "26427392/26421880 [==============================] - 0s 0us/step\n",
            "Downloading data from https://storage.googleapis.com/tensorflow/tf-keras-datasets/t10k-labels-idx1-ubyte.gz\n",
            "8192/5148 [===============================================] - 0s 0us/step\n",
            "Downloading data from https://storage.googleapis.com/tensorflow/tf-keras-datasets/t10k-images-idx3-ubyte.gz\n",
            "4423680/4422102 [==============================] - 0s 0us/step\n"
          ],
          "name": "stdout"
        }
      ]
    },
    {
      "cell_type": "code",
      "metadata": {
        "id": "pnCjBjAZsYRm",
        "colab": {
          "base_uri": "https://localhost:8080/",
          "height": 282
        },
        "outputId": "f124d6b7-7ca4-4430-f527-351fc9b29b73"
      },
      "source": [
        "plt.imshow(train_X[0])\n",
        "print(train_Y[0])"
      ],
      "execution_count": 7,
      "outputs": [
        {
          "output_type": "stream",
          "text": [
            "9\n"
          ],
          "name": "stdout"
        },
        {
          "output_type": "display_data",
          "data": {
            "image/png": "[encoded data removed]",
            "text/plain": [
              "<Figure size 432x288 with 1 Axes>"
            ]
          },
          "metadata": {
            "tags": [],
            "needs_background": "light"
          }
        }
      ]
    },
    {
      "cell_type": "code",
      "metadata": {
        "id": "ulwHlSfsscfW",
        "colab": {
          "base_uri": "https://localhost:8080/"
        },
        "outputId": "c5aa81bd-db4c-4c2d-ff96-6cddd85c8d7b"
      },
      "source": [
        "print('Training data shape : ', train_X.shape, train_Y.shape)\n",
        "\n",
        "print('Testing data shape : ', test_X.shape, test_Y.shape)"
      ],
      "execution_count": 8,
      "outputs": [
        {
          "output_type": "stream",
          "text": [
            "Training data shape :  (60000, 28, 28) (60000,)\n",
            "Testing data shape :  (10000, 28, 28) (10000,)\n"
          ],
          "name": "stdout"
        }
      ]
    },
    {
      "cell_type": "code",
      "metadata": {
        "id": "ftBOT74FtVac",
        "colab": {
          "base_uri": "https://localhost:8080/"
        },
        "outputId": "9bddac7c-bfca-443b-9116-1fc2f082dafa"
      },
      "source": [
        "classes = np.unique(train_Y)\n",
        "nClasses = len(classes)\n",
        "print('Total number of outputs : ', nClasses)\n",
        "print('Output classes : ', classes)"
      ],
      "execution_count": 9,
      "outputs": [
        {
          "output_type": "stream",
          "text": [
            "Total number of outputs :  10\n",
            "Output classes :  [0 1 2 3 4 5 6 7 8 9]\n"
          ],
          "name": "stdout"
        }
      ]
    },
    {
      "cell_type": "code",
      "metadata": {
        "id": "NroQGKObttH8",
        "colab": {
          "base_uri": "https://localhost:8080/",
          "height": 208
        },
        "outputId": "2046141f-4afe-46ef-d16b-41c5f459209e"
      },
      "source": [
        "plt.figure(figsize=[5,5])\n",
        "\n",
        "# Display the first image in training data\n",
        "plt.subplot(121)\n",
        "plt.imshow(train_X[0,:,:], cmap='gray')\n",
        "plt.title(\"Ground Truth : {}\".format(train_Y[0]))\n",
        "\n",
        "# Display the first image in testing data\n",
        "plt.subplot(122)\n",
        "plt.imshow(test_X[0,:,:], cmap='gray')\n",
        "plt.title(\"Ground Truth : {}\".format(test_Y[0]))"
      ],
      "execution_count": 10,
      "outputs": [
        {
          "output_type": "execute_result",
          "data": {
            "text/plain": [
              "Text(0.5, 1.0, 'Ground Truth : 9')"
            ]
          },
          "metadata": {
            "tags": []
          },
          "execution_count": 10
        },
        {
          "output_type": "display_data",
          "data": {
            "image/png": "[encoded data removed]",
            "text/plain": [
              "<Figure size 360x360 with 2 Axes>"
            ]
          },
          "metadata": {
            "tags": [],
            "needs_background": "light"
          }
        }
      ]
    },
    {
      "cell_type": "code",
      "metadata": {
        "id": "NBy1GiTRtyoq",
        "colab": {
          "base_uri": "https://localhost:8080/"
        },
        "outputId": "e121f6da-7709-4ccd-acad-85e237e4e690"
      },
      "source": [
        "train_X = train_X.reshape(-1, 28,28, 1)\n",
        "test_X = test_X.reshape(-1, 28,28, 1)\n",
        "train_X.shape, test_X.shape"
      ],
      "execution_count": 11,
      "outputs": [
        {
          "output_type": "execute_result",
          "data": {
            "text/plain": [
              "((60000, 28, 28, 1), (10000, 28, 28, 1))"
            ]
          },
          "metadata": {
            "tags": []
          },
          "execution_count": 11
        }
      ]
    },
    {
      "cell_type": "code",
      "metadata": {
        "id": "Yv5yRt1WtzpD"
      },
      "source": [
        "train_X = train_X.astype('float32')\n",
        "test_X = test_X.astype('float32')\n",
        "train_X = train_X / 255.\n",
        "test_X = test_X / 255"
      ],
      "execution_count": 12,
      "outputs": []
    },
    {
      "cell_type": "code",
      "metadata": {
        "id": "VJ3Q9FeMuCPl",
        "colab": {
          "base_uri": "https://localhost:8080/"
        },
        "outputId": "1fe21fcd-aa57-47bd-df85-eedbc9a02100"
      },
      "source": [
        "# Change the labels from categorical to one-hot encoding\n",
        "train_Y_one_hot = to_categorical(train_Y)\n",
        "test_Y_one_hot = to_categorical(test_Y)\n",
        "\n",
        "# Display the change for category label using one-hot encoding\n",
        "print('Original label:', train_Y[0])\n",
        "print('After conversion to one-hot:', train_Y_one_hot[0])"
      ],
      "execution_count": 13,
      "outputs": [
        {
          "output_type": "stream",
          "text": [
            "Original label: 9\n",
            "After conversion to one-hot: [0. 0. 0. 0. 0. 0. 0. 0. 0. 1.]\n"
          ],
          "name": "stdout"
        }
      ]
    },
    {
      "cell_type": "code",
      "metadata": {
        "id": "0_985YVcuDAW"
      },
      "source": [
        "from sklearn.model_selection import train_test_split\n",
        "train_X,valid_X,train_label,valid_label = train_test_split(train_X, train_Y_one_hot, test_size=0.2, random_state=13)"
      ],
      "execution_count": 14,
      "outputs": []
    },
    {
      "cell_type": "code",
      "metadata": {
        "id": "8EKJMWjzuDrM",
        "colab": {
          "base_uri": "https://localhost:8080/"
        },
        "outputId": "90e9a9bf-b2b9-45ee-b079-d2a0b2a9384a"
      },
      "source": [
        "train_X.shape,valid_X.shape,train_label.shape,valid_label.shape\n"
      ],
      "execution_count": 15,
      "outputs": [
        {
          "output_type": "execute_result",
          "data": {
            "text/plain": [
              "((48000, 28, 28, 1), (12000, 28, 28, 1), (48000, 10), (12000, 10))"
            ]
          },
          "metadata": {
            "tags": []
          },
          "execution_count": 15
        }
      ]
    },
    {
      "cell_type": "code",
      "metadata": {
        "id": "YxOnVwxFuEDX"
      },
      "source": [
        "import keras\n",
        "from keras.models import Sequential,Input,Model\n",
        "from keras.layers import Dense, Dropout, Flatten\n",
        "from keras.layers import Conv2D, MaxPooling2D\n",
        "from keras.layers.normalization import BatchNormalization\n",
        "from keras.layers.advanced_activations import LeakyReLU"
      ],
      "execution_count": 16,
      "outputs": []
    },
    {
      "cell_type": "code",
      "metadata": {
        "id": "6n1qXoxUzzbI"
      },
      "source": [
        "batch_size = 64\n",
        "epochs = 20\n",
        "num_classes = 10"
      ],
      "execution_count": 17,
      "outputs": []
    },
    {
      "cell_type": "code",
      "metadata": {
        "id": "OYAeGKfeA_6C"
      },
      "source": [
        "import keras\n",
        "import keras.models as models"
      ],
      "execution_count": 18,
      "outputs": []
    },
    {
      "cell_type": "code",
      "metadata": {
        "id": "D0mbucEa0b5V",
        "colab": {
          "base_uri": "https://localhost:8080/"
        },
        "outputId": "f696d561-86c9-4224-cdd9-ac9b9aecb350"
      },
      "source": [
        "train_X.shape[1:]"
      ],
      "execution_count": 19,
      "outputs": [
        {
          "output_type": "execute_result",
          "data": {
            "text/plain": [
              "(28, 28, 1)"
            ]
          },
          "metadata": {
            "tags": []
          },
          "execution_count": 19
        }
      ]
    },
    {
      "cell_type": "code",
      "metadata": {
        "id": "SnYey_i0z8aq"
      },
      "source": [
        "model = tf.keras.Sequential()"
      ],
      "execution_count": 20,
      "outputs": []
    },
    {
      "cell_type": "code",
      "metadata": {
        "id": "jR9z9JatsOD1"
      },
      "source": [
        "model.add(tf.keras.layers.Conv2D(32,(3,3),activation='linear',input_shape=(28, 28,1),padding='same'))\n",
        "model.add(tf.keras.layers.LeakyReLU(alpha=0.1))\n",
        "model.add(tf.keras.layers.MaxPooling2D((2, 2),padding='same'))\n"
      ],
      "execution_count": 21,
      "outputs": []
    },
    {
      "cell_type": "code",
      "metadata": {
        "id": "BlRWESGTvMo6"
      },
      "source": [
        "model.add(tf.keras.layers.Conv2D(64, (3, 3), activation='linear',padding='same'))\n",
        "model.add(tf.keras.layers.LeakyReLU(alpha=0.1))\n",
        "model.add(tf.keras.layers.MaxPooling2D(pool_size=(2, 2),padding='same'))\n",
        "model.add(tf.keras.layers.Conv2D(128, (3, 3), activation='linear',padding='same'))\n",
        "model.add(tf.keras.layers.LeakyReLU(alpha=0.1))                  \n",
        "model.add(tf.keras.layers.MaxPooling2D(pool_size=(2, 2),padding='same'))\n"
      ],
      "execution_count": 22,
      "outputs": []
    },
    {
      "cell_type": "code",
      "metadata": {
        "id": "1URzrx2Xvmpo"
      },
      "source": [
        "model.add(tf.keras.layers.Flatten())"
      ],
      "execution_count": 23,
      "outputs": []
    },
    {
      "cell_type": "code",
      "metadata": {
        "id": "iS549nNBFdYo"
      },
      "source": [
        "model.add(tf.keras.layers.Dense(128, activation='linear'))\n",
        "model.add(tf.keras.layers.LeakyReLU(alpha=0.1))                  \n",
        "model.add(tf.keras.layers.Dense(num_classes, activation='softmax'))"
      ],
      "execution_count": 24,
      "outputs": []
    },
    {
      "cell_type": "code",
      "metadata": {
        "id": "GdOqY2RUI9vS"
      },
      "source": [
        "model.compile(loss=tf.keras.losses.categorical_crossentropy, optimizer=tf.keras.optimizers.Adam(),metrics=['accuracy'])\n"
      ],
      "execution_count": 25,
      "outputs": []
    },
    {
      "cell_type": "code",
      "metadata": {
        "id": "VWQmyQ-hxAaa",
        "colab": {
          "base_uri": "https://localhost:8080/"
        },
        "outputId": "8d2445a0-27a8-4eec-9391-771642a4b4fd"
      },
      "source": [
        "model.summary()\n"
      ],
      "execution_count": 26,
      "outputs": [
        {
          "output_type": "stream",
          "text": [
            "Model: \"sequential\"\n",
            "_________________________________________________________________\n",
            "Layer (type)                 Output Shape              Param #   \n",
            "=================================================================\n",
            "conv2d (Conv2D)              (None, 28, 28, 32)        320       \n",
            "_________________________________________________________________\n",
            "leaky_re_lu (LeakyReLU)      (None, 28, 28, 32)        0         \n",
            "_________________________________________________________________\n",
            "max_pooling2d (MaxPooling2D) (None, 14, 14, 32)        0         \n",
            "_________________________________________________________________\n",
            "conv2d_1 (Conv2D)            (None, 14, 14, 64)        18496     \n",
            "_________________________________________________________________\n",
            "leaky_re_lu_1 (LeakyReLU)    (None, 14, 14, 64)        0         \n",
            "_________________________________________________________________\n",
            "max_pooling2d_1 (MaxPooling2 (None, 7, 7, 64)          0         \n",
            "_________________________________________________________________\n",
            "conv2d_2 (Conv2D)            (None, 7, 7, 128)         73856     \n",
            "_________________________________________________________________\n",
            "leaky_re_lu_2 (LeakyReLU)    (None, 7, 7, 128)         0         \n",
            "_________________________________________________________________\n",
            "max_pooling2d_2 (MaxPooling2 (None, 4, 4, 128)         0         \n",
            "_________________________________________________________________\n",
            "flatten (Flatten)            (None, 2048)              0         \n",
            "_________________________________________________________________\n",
            "dense (Dense)                (None, 128)               262272    \n",
            "_________________________________________________________________\n",
            "leaky_re_lu_3 (LeakyReLU)    (None, 128)               0         \n",
            "_________________________________________________________________\n",
            "dense_1 (Dense)              (None, 10)                1290      \n",
            "=================================================================\n",
            "Total params: 356,234\n",
            "Trainable params: 356,234\n",
            "Non-trainable params: 0\n",
            "_________________________________________________________________\n"
          ],
          "name": "stdout"
        }
      ]
    },
    {
      "cell_type": "code",
      "metadata": {
        "id": "ZT8bQWyexRxD",
        "colab": {
          "base_uri": "https://localhost:8080/"
        },
        "outputId": "ca3b6e20-a160-420e-f5aa-e4ed0a66560b"
      },
      "source": [
        "model_train=model.fit(train_X, train_label, batch_size=64,epochs=20,verbose=1,validation_data=(valid_X, valid_label))"
      ],
      "execution_count": 27,
      "outputs": [
        {
          "output_type": "stream",
          "text": [
            "Epoch 1/20\n",
            "750/750 [==============================] - 77s 102ms/step - loss: 0.6862 - accuracy: 0.7449 - val_loss: 0.3160 - val_accuracy: 0.8864\n",
            "Epoch 2/20\n",
            "750/750 [==============================] - 76s 101ms/step - loss: 0.2916 - accuracy: 0.8948 - val_loss: 0.2692 - val_accuracy: 0.9024\n",
            "Epoch 3/20\n",
            "750/750 [==============================] - 76s 101ms/step - loss: 0.2480 - accuracy: 0.9096 - val_loss: 0.2437 - val_accuracy: 0.9109\n",
            "Epoch 4/20\n",
            "750/750 [==============================] - 76s 101ms/step - loss: 0.2096 - accuracy: 0.9234 - val_loss: 0.2337 - val_accuracy: 0.9148\n",
            "Epoch 5/20\n",
            "750/750 [==============================] - 76s 101ms/step - loss: 0.1799 - accuracy: 0.9350 - val_loss: 0.2224 - val_accuracy: 0.9196\n",
            "Epoch 6/20\n",
            "750/750 [==============================] - 76s 101ms/step - loss: 0.1615 - accuracy: 0.9404 - val_loss: 0.2331 - val_accuracy: 0.9187\n",
            "Epoch 7/20\n",
            "750/750 [==============================] - 76s 101ms/step - loss: 0.1386 - accuracy: 0.9482 - val_loss: 0.2432 - val_accuracy: 0.9175\n",
            "Epoch 8/20\n",
            "750/750 [==============================] - 76s 102ms/step - loss: 0.1140 - accuracy: 0.9574 - val_loss: 0.2592 - val_accuracy: 0.9168\n",
            "Epoch 9/20\n",
            "750/750 [==============================] - 76s 101ms/step - loss: 0.0909 - accuracy: 0.9663 - val_loss: 0.2608 - val_accuracy: 0.9162\n",
            "Epoch 10/20\n",
            "750/750 [==============================] - 76s 101ms/step - loss: 0.0788 - accuracy: 0.9715 - val_loss: 0.2643 - val_accuracy: 0.9179\n",
            "Epoch 11/20\n",
            "750/750 [==============================] - 76s 102ms/step - loss: 0.0689 - accuracy: 0.9744 - val_loss: 0.2831 - val_accuracy: 0.9187\n",
            "Epoch 12/20\n",
            "750/750 [==============================] - 76s 101ms/step - loss: 0.0583 - accuracy: 0.9787 - val_loss: 0.3183 - val_accuracy: 0.9182\n",
            "Epoch 13/20\n",
            "750/750 [==============================] - 75s 100ms/step - loss: 0.0505 - accuracy: 0.9809 - val_loss: 0.3429 - val_accuracy: 0.9187\n",
            "Epoch 14/20\n",
            "750/750 [==============================] - 75s 100ms/step - loss: 0.0414 - accuracy: 0.9844 - val_loss: 0.4089 - val_accuracy: 0.9150\n",
            "Epoch 15/20\n",
            "750/750 [==============================] - 75s 100ms/step - loss: 0.0371 - accuracy: 0.9867 - val_loss: 0.3693 - val_accuracy: 0.9194\n",
            "Epoch 16/20\n",
            "750/750 [==============================] - 75s 100ms/step - loss: 0.0356 - accuracy: 0.9868 - val_loss: 0.3915 - val_accuracy: 0.9158\n",
            "Epoch 17/20\n",
            "750/750 [==============================] - 76s 101ms/step - loss: 0.0307 - accuracy: 0.9887 - val_loss: 0.4176 - val_accuracy: 0.9193\n",
            "Epoch 18/20\n",
            "750/750 [==============================] - 76s 101ms/step - loss: 0.0309 - accuracy: 0.9885 - val_loss: 0.4380 - val_accuracy: 0.9158\n",
            "Epoch 19/20\n",
            "750/750 [==============================] - 76s 101ms/step - loss: 0.0310 - accuracy: 0.9891 - val_loss: 0.4590 - val_accuracy: 0.9176\n",
            "Epoch 20/20\n",
            "750/750 [==============================] - 76s 101ms/step - loss: 0.0245 - accuracy: 0.9913 - val_loss: 0.4539 - val_accuracy: 0.9122\n"
          ],
          "name": "stdout"
        }
      ]
    },
    {
      "cell_type": "code",
      "metadata": {
        "id": "_1usdDpMzV7w",
        "colab": {
          "base_uri": "https://localhost:8080/"
        },
        "outputId": "7225bdfa-e965-49d7-e101-683fda9c5f40"
      },
      "source": [
        "test_eval = model.evaluate(test_X, test_Y_one_hot, verbose=0)\n",
        "print('Test loss:', test_eval[0])\n",
        "print('Test accuracy:', test_eval[1])"
      ],
      "execution_count": 28,
      "outputs": [
        {
          "output_type": "stream",
          "text": [
            "Test loss: 0.4526623487472534\n",
            "Test accuracy: 0.9144999980926514\n"
          ],
          "name": "stdout"
        }
      ]
    },
    {
      "cell_type": "code",
      "metadata": {
        "id": "rCuGlP0FM21q",
        "colab": {
          "base_uri": "https://localhost:8080/"
        },
        "outputId": "2ab1040e-97a5-460a-ab27-bc70099b786e"
      },
      "source": [
        "model_train.history"
      ],
      "execution_count": 29,
      "outputs": [
        {
          "output_type": "execute_result",
          "data": {
            "text/plain": [
              "{'accuracy': [0.8296458125114441,\n",
              "  0.8958749771118164,\n",
              "  0.9115833044052124,\n",
              "  0.9241458177566528,\n",
              "  0.9336458444595337,\n",
              "  0.9408749938011169,\n",
              "  0.9468541741371155,\n",
              "  0.9552500247955322,\n",
              "  0.9618750214576721,\n",
              "  0.9677291512489319,\n",
              "  0.9723541736602783,\n",
              "  0.9765416383743286,\n",
              "  0.9802083373069763,\n",
              "  0.9818958044052124,\n",
              "  0.9847708344459534,\n",
              "  0.9858333468437195,\n",
              "  0.9867500066757202,\n",
              "  0.9868124723434448,\n",
              "  0.989104151725769,\n",
              "  0.988895833492279],\n",
              " 'loss': [0.4626612663269043,\n",
              "  0.28728246688842773,\n",
              "  0.23906949162483215,\n",
              "  0.20751380920410156,\n",
              "  0.18265226483345032,\n",
              "  0.1596124917268753,\n",
              "  0.14105716347694397,\n",
              "  0.11924467980861664,\n",
              "  0.10078982263803482,\n",
              "  0.08666808158159256,\n",
              "  0.07398980855941772,\n",
              "  0.0622388981282711,\n",
              "  0.052965905517339706,\n",
              "  0.047793783247470856,\n",
              "  0.041982993483543396,\n",
              "  0.037556130439043045,\n",
              "  0.03444770723581314,\n",
              "  0.036146361380815506,\n",
              "  0.030987754464149475,\n",
              "  0.030085790902376175],\n",
              " 'val_accuracy': [0.8864166736602783,\n",
              "  0.9024166464805603,\n",
              "  0.9109166860580444,\n",
              "  0.9148333072662354,\n",
              "  0.9195833206176758,\n",
              "  0.918666660785675,\n",
              "  0.9175000190734863,\n",
              "  0.9167500138282776,\n",
              "  0.9161666631698608,\n",
              "  0.9179166555404663,\n",
              "  0.918749988079071,\n",
              "  0.9181666374206543,\n",
              "  0.918666660785675,\n",
              "  0.9150000214576721,\n",
              "  0.9194166660308838,\n",
              "  0.9158333539962769,\n",
              "  0.9192500114440918,\n",
              "  0.9157500267028809,\n",
              "  0.9175833463668823,\n",
              "  0.9122499823570251],\n",
              " 'val_loss': [0.31601205468177795,\n",
              "  0.2692181169986725,\n",
              "  0.24371464550495148,\n",
              "  0.23372921347618103,\n",
              "  0.22244830429553986,\n",
              "  0.2330886870622635,\n",
              "  0.24324697256088257,\n",
              "  0.2591897249221802,\n",
              "  0.2607738971710205,\n",
              "  0.2642669975757599,\n",
              "  0.2831402122974396,\n",
              "  0.31829994916915894,\n",
              "  0.34293437004089355,\n",
              "  0.40885990858078003,\n",
              "  0.36927706003189087,\n",
              "  0.39145663380622864,\n",
              "  0.41762879490852356,\n",
              "  0.4379864037036896,\n",
              "  0.45900991559028625,\n",
              "  0.4538697898387909]}"
            ]
          },
          "metadata": {
            "tags": []
          },
          "execution_count": 29
        }
      ]
    },
    {
      "cell_type": "code",
      "metadata": {
        "id": "LCLs5XIJ5Sxe",
        "colab": {
          "base_uri": "https://localhost:8080/",
          "height": 545
        },
        "outputId": "82de4ab9-f23b-4531-ed10-6424b7ed983f"
      },
      "source": [
        "accuracy = model_train.history['accuracy']\n",
        "val_accuracy = model_train.history['val_accuracy']\n",
        "loss = model_train.history['loss']\n",
        "val_loss = model_train.history['val_loss']\n",
        "epochs = range(len(accuracy))\n",
        "plt.plot(epochs, accuracy, 'bo', label='Training accuracy')\n",
        "plt.plot(epochs, val_accuracy, 'b', label='Validation accuracy')\n",
        "plt.title('Training and validation accuracy')\n",
        "plt.legend()\n",
        "plt.figure()\n",
        "plt.plot(epochs, loss, 'bo', label='Training loss')\n",
        "plt.plot(epochs, val_loss, 'b', label='Validation loss')\n",
        "plt.title('Training and validation loss')\n",
        "plt.legend()\n",
        "plt.show()"
      ],
      "execution_count": 30,
      "outputs": [
        {
          "output_type": "display_data",
          "data": {
            "image/png": "[encoded data removed]",
            "text/plain": [
              "<Figure size 432x288 with 1 Axes>"
            ]
          },
          "metadata": {
            "tags": [],
            "needs_background": "light"
          }
        },
        {
          "output_type": "display_data",
          "data": {
            "image/png": "[encoded data removed]",
            "text/plain": [
              "<Figure size 432x288 with 1 Axes>"
            ]
          },
          "metadata": {
            "tags": [],
            "needs_background": "light"
          }
        }
      ]
    },
    {
      "cell_type": "code",
      "metadata": {
        "id": "sO8JBbEH58Si"
      },
      "source": [
        "fashion_model = tf.keras.Sequential()\n",
        "fashion_model.add(tf.keras.layers.Conv2D(32, kernel_size=(3, 3),activation='linear',padding='same',input_shape=(28,28,1)))\n",
        "fashion_model.add(tf.keras.layers.LeakyReLU(alpha=0.1))\n",
        "fashion_model.add(tf.keras.layers.MaxPooling2D((2, 2),padding='same'))\n",
        "fashion_model.add(tf.keras.layers.Dropout(0.25))\n",
        "fashion_model.add(tf.keras.layers.Conv2D(64, (3, 3), activation='linear',padding='same'))\n",
        "fashion_model.add(tf.keras.layers.LeakyReLU(alpha=0.1))\n",
        "fashion_model.add(tf.keras.layers.MaxPooling2D(pool_size=(2, 2),padding='same'))\n",
        "fashion_model.add(tf.keras.layers.Dropout(0.25))\n",
        "fashion_model.add(tf.keras.layers.Conv2D(128, (3, 3), activation='linear',padding='same'))\n",
        "fashion_model.add(tf.keras.layers.LeakyReLU(alpha=0.1))                  \n",
        "fashion_model.add(tf.keras.layers.MaxPooling2D(pool_size=(2, 2),padding='same'))\n",
        "fashion_model.add(tf.keras.layers.Dropout(0.4))\n",
        "fashion_model.add(tf.keras.layers.Flatten())\n",
        "fashion_model.add(tf.keras.layers.Dense(128, activation='linear'))\n",
        "fashion_model.add(tf.keras.layers.LeakyReLU(alpha=0.1))           \n",
        "fashion_model.add(tf.keras.layers.Dropout(0.3))\n",
        "fashion_model.add(tf.keras.layers.Dense(num_classes, activation='softmax'))"
      ],
      "execution_count": 31,
      "outputs": []
    },
    {
      "cell_type": "code",
      "metadata": {
        "id": "c9bDpu9K7G3C",
        "colab": {
          "base_uri": "https://localhost:8080/"
        },
        "outputId": "f9bdb2d1-b8e4-4ff7-fe41-852d9c8d3b3f"
      },
      "source": [
        "fashion_model.summary()\n"
      ],
      "execution_count": 32,
      "outputs": [
        {
          "output_type": "stream",
          "text": [
            "Model: \"sequential_1\"\n",
            "_________________________________________________________________\n",
            "Layer (type)                 Output Shape              Param #   \n",
            "=================================================================\n",
            "conv2d_3 (Conv2D)            (None, 28, 28, 32)        320       \n",
            "_________________________________________________________________\n",
            "leaky_re_lu_4 (LeakyReLU)    (None, 28, 28, 32)        0         \n",
            "_________________________________________________________________\n",
            "max_pooling2d_3 (MaxPooling2 (None, 14, 14, 32)        0         \n",
            "_________________________________________________________________\n",
            "dropout (Dropout)            (None, 14, 14, 32)        0         \n",
            "_________________________________________________________________\n",
            "conv2d_4 (Conv2D)            (None, 14, 14, 64)        18496     \n",
            "_________________________________________________________________\n",
            "leaky_re_lu_5 (LeakyReLU)    (None, 14, 14, 64)        0         \n",
            "_________________________________________________________________\n",
            "max_pooling2d_4 (MaxPooling2 (None, 7, 7, 64)          0         \n",
            "_________________________________________________________________\n",
            "dropout_1 (Dropout)          (None, 7, 7, 64)          0         \n",
            "_________________________________________________________________\n",
            "conv2d_5 (Conv2D)            (None, 7, 7, 128)         73856     \n",
            "_________________________________________________________________\n",
            "leaky_re_lu_6 (LeakyReLU)    (None, 7, 7, 128)         0         \n",
            "_________________________________________________________________\n",
            "max_pooling2d_5 (MaxPooling2 (None, 4, 4, 128)         0         \n",
            "_________________________________________________________________\n",
            "dropout_2 (Dropout)          (None, 4, 4, 128)         0         \n",
            "_________________________________________________________________\n",
            "flatten_1 (Flatten)          (None, 2048)              0         \n",
            "_________________________________________________________________\n",
            "dense_2 (Dense)              (None, 128)               262272    \n",
            "_________________________________________________________________\n",
            "leaky_re_lu_7 (LeakyReLU)    (None, 128)               0         \n",
            "_________________________________________________________________\n",
            "dropout_3 (Dropout)          (None, 128)               0         \n",
            "_________________________________________________________________\n",
            "dense_3 (Dense)              (None, 10)                1290      \n",
            "=================================================================\n",
            "Total params: 356,234\n",
            "Trainable params: 356,234\n",
            "Non-trainable params: 0\n",
            "_________________________________________________________________\n"
          ],
          "name": "stdout"
        }
      ]
    },
    {
      "cell_type": "code",
      "metadata": {
        "id": "dQh_myf17JZS"
      },
      "source": [
        "fashion_model.compile(loss=tf.keras.losses.categorical_crossentropy, optimizer=tf.keras.optimizers.Adam(),metrics=['accuracy'])\n"
      ],
      "execution_count": 33,
      "outputs": []
    },
    {
      "cell_type": "code",
      "metadata": {
        "id": "6GpDULM37MQD",
        "colab": {
          "base_uri": "https://localhost:8080/"
        },
        "outputId": "b848acfd-9aaa-4055-d50a-ef74a8c1c385"
      },
      "source": [
        "fashion_train_dropout = fashion_model.fit(train_X, train_label, batch_size=64,epochs=20,verbose=1,validation_data=(valid_X, valid_label))"
      ],
      "execution_count": 34,
      "outputs": [
        {
          "output_type": "stream",
          "text": [
            "Epoch 1/20\n",
            "750/750 [==============================] - 81s 108ms/step - loss: 0.8668 - accuracy: 0.6727 - val_loss: 0.3736 - val_accuracy: 0.8633\n",
            "Epoch 2/20\n",
            "750/750 [==============================] - 81s 108ms/step - loss: 0.3913 - accuracy: 0.8561 - val_loss: 0.3123 - val_accuracy: 0.8842\n",
            "Epoch 3/20\n",
            "750/750 [==============================] - 81s 108ms/step - loss: 0.3331 - accuracy: 0.8755 - val_loss: 0.3094 - val_accuracy: 0.8832\n",
            "Epoch 4/20\n",
            "750/750 [==============================] - 80s 107ms/step - loss: 0.3105 - accuracy: 0.8851 - val_loss: 0.2640 - val_accuracy: 0.9018\n",
            "Epoch 5/20\n",
            "750/750 [==============================] - 81s 108ms/step - loss: 0.2826 - accuracy: 0.8919 - val_loss: 0.2631 - val_accuracy: 0.9014\n",
            "Epoch 6/20\n",
            "750/750 [==============================] - 80s 107ms/step - loss: 0.2754 - accuracy: 0.8995 - val_loss: 0.2401 - val_accuracy: 0.9128\n",
            "Epoch 7/20\n",
            "750/750 [==============================] - 80s 107ms/step - loss: 0.2557 - accuracy: 0.9066 - val_loss: 0.2497 - val_accuracy: 0.9097\n",
            "Epoch 8/20\n",
            "750/750 [==============================] - 81s 108ms/step - loss: 0.2534 - accuracy: 0.9049 - val_loss: 0.2366 - val_accuracy: 0.9148\n",
            "Epoch 9/20\n",
            "750/750 [==============================] - 80s 107ms/step - loss: 0.2446 - accuracy: 0.9074 - val_loss: 0.2265 - val_accuracy: 0.9171\n",
            "Epoch 10/20\n",
            "750/750 [==============================] - 80s 106ms/step - loss: 0.2388 - accuracy: 0.9094 - val_loss: 0.2378 - val_accuracy: 0.9135\n",
            "Epoch 11/20\n",
            "750/750 [==============================] - 80s 107ms/step - loss: 0.2314 - accuracy: 0.9136 - val_loss: 0.2278 - val_accuracy: 0.9174\n",
            "Epoch 12/20\n",
            "750/750 [==============================] - 80s 107ms/step - loss: 0.2175 - accuracy: 0.9193 - val_loss: 0.2218 - val_accuracy: 0.9207\n",
            "Epoch 13/20\n",
            "750/750 [==============================] - 80s 107ms/step - loss: 0.2147 - accuracy: 0.9188 - val_loss: 0.2321 - val_accuracy: 0.9150\n",
            "Epoch 14/20\n",
            "750/750 [==============================] - 80s 107ms/step - loss: 0.2110 - accuracy: 0.9202 - val_loss: 0.2202 - val_accuracy: 0.9193\n",
            "Epoch 15/20\n",
            "750/750 [==============================] - 80s 106ms/step - loss: 0.2102 - accuracy: 0.9220 - val_loss: 0.2134 - val_accuracy: 0.9229\n",
            "Epoch 16/20\n",
            "750/750 [==============================] - 81s 108ms/step - loss: 0.2021 - accuracy: 0.9244 - val_loss: 0.2097 - val_accuracy: 0.9230\n",
            "Epoch 17/20\n",
            "750/750 [==============================] - 81s 107ms/step - loss: 0.2028 - accuracy: 0.9220 - val_loss: 0.2145 - val_accuracy: 0.9214\n",
            "Epoch 18/20\n",
            "750/750 [==============================] - 81s 108ms/step - loss: 0.1983 - accuracy: 0.9250 - val_loss: 0.2069 - val_accuracy: 0.9262\n",
            "Epoch 19/20\n",
            "750/750 [==============================] - 81s 108ms/step - loss: 0.1969 - accuracy: 0.9238 - val_loss: 0.2105 - val_accuracy: 0.9251\n",
            "Epoch 20/20\n",
            "750/750 [==============================] - 81s 108ms/step - loss: 0.1939 - accuracy: 0.9260 - val_loss: 0.2145 - val_accuracy: 0.9252\n"
          ],
          "name": "stdout"
        }
      ]
    },
    {
      "cell_type": "code",
      "metadata": {
        "id": "6sOCptVl7POZ",
        "colab": {
          "base_uri": "https://localhost:8080/"
        },
        "outputId": "4818fa31-1b60-4370-dc16-5b0fceb345df"
      },
      "source": [
        "fashion_model.save(\"fashion_model_dropout.h5py\")"
      ],
      "execution_count": 35,
      "outputs": [
        {
          "output_type": "stream",
          "text": [
            "INFO:tensorflow:Assets written to: fashion_model_dropout.h5py/assets\n"
          ],
          "name": "stdout"
        }
      ]
    },
    {
      "cell_type": "code",
      "metadata": {
        "id": "LRkmrduA7V9d",
        "colab": {
          "base_uri": "https://localhost:8080/"
        },
        "outputId": "b4306312-db09-445a-87f2-014b3bed07fe"
      },
      "source": [
        "test_eval = fashion_model.evaluate(test_X, test_Y_one_hot, verbose=1)\n"
      ],
      "execution_count": 36,
      "outputs": [
        {
          "output_type": "stream",
          "text": [
            "313/313 [==============================] - 5s 16ms/step - loss: 0.2265 - accuracy: 0.9193\n"
          ],
          "name": "stdout"
        }
      ]
    },
    {
      "cell_type": "code",
      "metadata": {
        "id": "HejOWax37YKV",
        "colab": {
          "base_uri": "https://localhost:8080/"
        },
        "outputId": "667b2186-09f8-4b83-e939-f03e2f37e29d"
      },
      "source": [
        "print('Test loss:', test_eval[0])\n",
        "print('Test accuracy:', test_eval[1])"
      ],
      "execution_count": 37,
      "outputs": [
        {
          "output_type": "stream",
          "text": [
            "Test loss: 0.22654299437999725\n",
            "Test accuracy: 0.9193000197410583\n"
          ],
          "name": "stdout"
        }
      ]
    },
    {
      "cell_type": "code",
      "metadata": {
        "id": "AY34tiTq7aAu",
        "colab": {
          "base_uri": "https://localhost:8080/",
          "height": 545
        },
        "outputId": "83f8b0b8-204d-404c-8d2c-d130bf780f96"
      },
      "source": [
        "accuracy = fashion_train_dropout.history['accuracy']\n",
        "val_accuracy = fashion_train_dropout.history['val_accuracy']\n",
        "loss = fashion_train_dropout.history['loss']\n",
        "val_loss = fashion_train_dropout.history['val_loss']\n",
        "epochs = range(len(accuracy))\n",
        "plt.plot(epochs, accuracy, 'bo', label='Training accuracy')\n",
        "plt.plot(epochs, val_accuracy, 'b', label='Validation accuracy')\n",
        "plt.title('Training and validation accuracy')\n",
        "plt.legend()\n",
        "plt.figure()\n",
        "plt.plot(epochs, loss, 'bo', label='Training loss')\n",
        "plt.plot(epochs, val_loss, 'b', label='Validation loss')\n",
        "plt.title('Training and validation loss')\n",
        "plt.legend()\n",
        "plt.show()"
      ],
      "execution_count": 38,
      "outputs": [
        {
          "output_type": "display_data",
          "data": {
            "image/png": "[encoded data removed]",
            "text/plain": [
              "<Figure size 432x288 with 1 Axes>"
            ]
          },
          "metadata": {
            "tags": [],
            "needs_background": "light"
          }
        },
        {
          "output_type": "display_data",
          "data": {
            "image/png": "[encoded data removed]",
            "text/plain": [
              "<Figure size 432x288 with 1 Axes>"
            ]
          },
          "metadata": {
            "tags": [],
            "needs_background": "light"
          }
        }
      ]
    },
    {
      "cell_type": "code",
      "metadata": {
        "id": "wrWQlPcd7c_w"
      },
      "source": [
        "predicted_classes = fashion_model.predict(test_X)\n"
      ],
      "execution_count": 39,
      "outputs": []
    },
    {
      "cell_type": "code",
      "metadata": {
        "id": "nfIGrvQ47fki"
      },
      "source": [
        "predicted_classes = np.argmax(np.round(predicted_classes),axis=1)\n"
      ],
      "execution_count": 40,
      "outputs": []
    },
    {
      "cell_type": "code",
      "metadata": {
        "id": "ZbbqfO177haN",
        "colab": {
          "base_uri": "https://localhost:8080/",
          "height": 314
        },
        "outputId": "3a40a345-a602-4d4e-b0b0-d5a61c5b79d3"
      },
      "source": [
        "correct = np.where(predicted_classes==test_Y)[0]\n",
        "print (\"Found %d correct labels\" % len(correct))\n",
        "for i, correct in enumerate(correct[:9]):\n",
        "    plt.subplot(3,3,i+1)\n",
        "    plt.imshow(test_X[correct].reshape(28,28), cmap='gray', interpolation='none')\n",
        "    plt.title(\"Predicted {}, Class {}\".format(predicted_classes[correct], test_Y[correct]))\n",
        "    plt.tight_layout()"
      ],
      "execution_count": 41,
      "outputs": [
        {
          "output_type": "stream",
          "text": [
            "Found 9155 correct labels\n"
          ],
          "name": "stdout"
        },
        {
          "output_type": "display_data",
          "data": {
            "image/png": "[encoded data removed]",
            "text/plain": [
              "<Figure size 432x288 with 9 Axes>"
            ]
          },
          "metadata": {
            "tags": [],
            "needs_background": "light"
          }
        }
      ]
    },
    {
      "cell_type": "code",
      "metadata": {
        "id": "NZXKuvpE7lGl",
        "colab": {
          "base_uri": "https://localhost:8080/",
          "height": 314
        },
        "outputId": "f8618897-ee16-4fda-be86-5a85748cff76"
      },
      "source": [
        "incorrect = np.where(predicted_classes!=test_Y)[0]\n",
        "print (\"Found %d incorrect labels\" % len(incorrect))\n",
        "for i, incorrect in enumerate(incorrect[:9]):\n",
        "    plt.subplot(3,3,i+1)\n",
        "    plt.imshow(test_X[incorrect].reshape(28,28), cmap='gray', interpolation='none')\n",
        "    plt.title(\"Predicted {}, Class {}\".format(predicted_classes[incorrect], test_Y[incorrect]))\n",
        "    plt.tight_layout()"
      ],
      "execution_count": 42,
      "outputs": [
        {
          "output_type": "stream",
          "text": [
            "Found 845 incorrect labels\n"
          ],
          "name": "stdout"
        },
        {
          "output_type": "display_data",
          "data": {
            "image/png": "[encoded data removed]",
            "text/plain": [
              "<Figure size 432x288 with 9 Axes>"
            ]
          },
          "metadata": {
            "tags": [],
            "needs_background": "light"
          }
        }
      ]
    },
    {
      "cell_type": "code",
      "metadata": {
        "id": "vxs2lD107ncR",
        "colab": {
          "base_uri": "https://localhost:8080/"
        },
        "outputId": "53f48c35-ef09-4612-933a-9ee69a656d73"
      },
      "source": [
        "from sklearn.metrics import classification_report\n",
        "target_names = [\"Class {}\".format(i) for i in range(num_classes)]\n",
        "print(classification_report(test_Y, predicted_classes, target_names=target_names))"
      ],
      "execution_count": 43,
      "outputs": [
        {
          "output_type": "stream",
          "text": [
            "              precision    recall  f1-score   support\n",
            "\n",
            "     Class 0       0.77      0.91      0.83      1000\n",
            "     Class 1       0.99      0.98      0.99      1000\n",
            "     Class 2       0.85      0.91      0.88      1000\n",
            "     Class 3       0.94      0.90      0.92      1000\n",
            "     Class 4       0.88      0.85      0.87      1000\n",
            "     Class 5       0.99      0.98      0.99      1000\n",
            "     Class 6       0.83      0.69      0.76      1000\n",
            "     Class 7       0.95      0.98      0.97      1000\n",
            "     Class 8       0.99      0.98      0.99      1000\n",
            "     Class 9       0.98      0.96      0.97      1000\n",
            "\n",
            "    accuracy                           0.92     10000\n",
            "   macro avg       0.92      0.92      0.92     10000\n",
            "weighted avg       0.92      0.92      0.92     10000\n",
            "\n"
          ],
          "name": "stdout"
        }
      ]
    },
    {
      "cell_type": "code",
      "metadata": {
        "id": "AUM1yZp_7q8O"
      },
      "source": [
        ""
      ],
      "execution_count": 43,
      "outputs": []
    },
    {
      "cell_type": "code",
      "metadata": {
        "id": "LeezZ_pViofI",
        "colab": {
          "base_uri": "https://localhost:8080/",
          "height": 281
        },
        "outputId": "542da328-3a3e-43f3-82b5-283551521bb1"
      },
      "source": [
        "plt.imshow(train_X[0])"
      ],
      "execution_count": null,
      "outputs": [
        {
          "output_type": "execute_result",
          "data": {
            "text/plain": [
              "<matplotlib.image.AxesImage at 0x7f3d14dfd128>"
            ]
          },
          "metadata": {
            "tags": []
          },
          "execution_count": 179
        },
        {
          "output_type": "display_data",
          "data": {
            "image/png": "[encoded data removed]",
            "text/plain": [
              "<Figure size 432x288 with 1 Axes>"
            ]
          },
          "metadata": {
            "tags": []
          }
        }
      ]
    },
    {
      "cell_type": "code",
      "metadata": {
        "id": "Blcg4bZfirzH"
      },
      "source": [
        "smallBlur = np.ones((7, 7), dtype=\"float\") * (1.0 / (7 * 7))"
      ],
      "execution_count": null,
      "outputs": []
    },
    {
      "cell_type": "code",
      "metadata": {
        "id": "r3oa6fFpivaJ"
      },
      "source": [
        "import cv2"
      ],
      "execution_count": null,
      "outputs": []
    },
    {
      "cell_type": "code",
      "metadata": {
        "id": "kfwBRsILj4yE",
        "colab": {
          "base_uri": "https://localhost:8080/",
          "height": 295
        },
        "outputId": "6dece147-796b-4ff0-9ecc-9fa2dc261051"
      },
      "source": [
        "im = Image.open( 'myBike.png' )\n",
        "im.show()"
      ],
      "execution_count": null,
      "outputs": [
        {
          "output_type": "error",
          "ename": "FileNotFoundError",
          "evalue": "ignored",
          "traceback": [
            "\u001b[0;31m---------------------------------------------------------------------------\u001b[0m",
            "\u001b[0;31mFileNotFoundError\u001b[0m                         Traceback (most recent call last)",
            "\u001b[0;32m<ipython-input-212-e5fa0e75f33b>\u001b[0m in \u001b[0;36m<module>\u001b[0;34m()\u001b[0m\n\u001b[0;32m----> 1\u001b[0;31m \u001b[0mim\u001b[0m \u001b[0;34m=\u001b[0m \u001b[0mImage\u001b[0m\u001b[0;34m.\u001b[0m\u001b[0mopen\u001b[0m\u001b[0;34m(\u001b[0m \u001b[0;34m'myBike.png'\u001b[0m \u001b[0;34m)\u001b[0m\u001b[0;34m\u001b[0m\u001b[0;34m\u001b[0m\u001b[0m\n\u001b[0m\u001b[1;32m      2\u001b[0m \u001b[0mim\u001b[0m\u001b[0;34m.\u001b[0m\u001b[0mshow\u001b[0m\u001b[0;34m(\u001b[0m\u001b[0;34m)\u001b[0m\u001b[0;34m\u001b[0m\u001b[0;34m\u001b[0m\u001b[0m\n",
            "\u001b[0;32m/usr/local/lib/python3.6/dist-packages/PIL/Image.py\u001b[0m in \u001b[0;36mopen\u001b[0;34m(fp, mode)\u001b[0m\n\u001b[1;32m   2807\u001b[0m \u001b[0;34m\u001b[0m\u001b[0m\n\u001b[1;32m   2808\u001b[0m     \u001b[0;32mif\u001b[0m \u001b[0mfilename\u001b[0m\u001b[0;34m:\u001b[0m\u001b[0;34m\u001b[0m\u001b[0;34m\u001b[0m\u001b[0m\n\u001b[0;32m-> 2809\u001b[0;31m         \u001b[0mfp\u001b[0m \u001b[0;34m=\u001b[0m \u001b[0mbuiltins\u001b[0m\u001b[0;34m.\u001b[0m\u001b[0mopen\u001b[0m\u001b[0;34m(\u001b[0m\u001b[0mfilename\u001b[0m\u001b[0;34m,\u001b[0m \u001b[0;34m\"rb\"\u001b[0m\u001b[0;34m)\u001b[0m\u001b[0;34m\u001b[0m\u001b[0;34m\u001b[0m\u001b[0m\n\u001b[0m\u001b[1;32m   2810\u001b[0m         \u001b[0mexclusive_fp\u001b[0m \u001b[0;34m=\u001b[0m \u001b[0;32mTrue\u001b[0m\u001b[0;34m\u001b[0m\u001b[0;34m\u001b[0m\u001b[0m\n\u001b[1;32m   2811\u001b[0m \u001b[0;34m\u001b[0m\u001b[0m\n",
            "\u001b[0;31mFileNotFoundError\u001b[0m: [Errno 2] No such file or directory: 'myBike.png'"
          ]
        }
      ]
    },
    {
      "cell_type": "code",
      "metadata": {
        "id": "qpdlx-xhjB_b"
      },
      "source": [
        ""
      ],
      "execution_count": null,
      "outputs": []
    },
    {
      "cell_type": "code",
      "metadata": {
        "id": "xZ6VBOUKjVmC"
      },
      "source": [
        ""
      ],
      "execution_count": null,
      "outputs": []
    }
  ]
}