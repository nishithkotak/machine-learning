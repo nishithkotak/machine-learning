{
  "nbformat": 4,
  "nbformat_minor": 0,
  "metadata": {
    "colab": {
      "name": "SVM2.ipynb",
      "provenance": [],
      "authorship_tag": "ABX9TyOxUDLI4cHx15mXhFPJCYrM"
    },
    "kernelspec": {
      "name": "python3",
      "display_name": "Python 3"
    },
    "language_info": {
      "name": "python"
    }
  },
  "cells": [
    {
      "cell_type": "code",
      "metadata": {
        "id": "wF-EoIkzHZJp"
      },
      "source": [
        "import numpy as np\n",
        "import matplotlib.pyplot as plt\n",
        "from sklearn import svm, datasets"
      ],
      "execution_count": 1,
      "outputs": []
    },
    {
      "cell_type": "code",
      "metadata": {
        "id": "2gKm49F4VEWx"
      },
      "source": [
        "# import some data to play with\n",
        "iris = datasets.load_iris()\n",
        "X = iris.data[:, :2]  # we only take the first two features. We could\n",
        "                      # avoid this ugly slicing by using a two-dim dataset\n",
        "y = iris.target"
      ],
      "execution_count": 13,
      "outputs": []
    },
    {
      "cell_type": "code",
      "metadata": {
        "colab": {
          "base_uri": "https://localhost:8080/"
        },
        "id": "7HfidRb1gVbQ",
        "outputId": "94df2d34-85ee-4408-f75a-3163c24a3e03"
      },
      "source": [
        "y"
      ],
      "execution_count": 46,
      "outputs": [
        {
          "output_type": "execute_result",
          "data": {
            "text/plain": [
              "array([0, 0, 0, 0, 0, 0, 0, 0, 0, 0, 0, 0, 0, 0, 0, 0, 0, 0, 0, 0, 0, 0,\n",
              "       0, 0, 0, 0, 0, 0, 0, 0, 0, 0, 0, 0, 0, 0, 0, 0, 0, 0, 0, 0, 0, 0,\n",
              "       0, 0, 0, 0, 0, 0, 1, 1, 1, 1, 1, 1, 1, 1, 1, 1, 1, 1, 1, 1, 1, 1,\n",
              "       1, 1, 1, 1, 1, 1, 1, 1, 1, 1, 1, 1, 1, 1, 1, 1, 1, 1, 1, 1, 1, 1,\n",
              "       1, 1, 1, 1, 1, 1, 1, 1, 1, 1, 1, 1, 2, 2, 2, 2, 2, 2, 2, 2, 2, 2,\n",
              "       2, 2, 2, 2, 2, 2, 2, 2, 2, 2, 2, 2, 2, 2, 2, 2, 2, 2, 2, 2, 2, 2,\n",
              "       2, 2, 2, 2, 2, 2, 2, 2, 2, 2, 2, 2, 2, 2, 2, 2, 2, 2])"
            ]
          },
          "metadata": {
            "tags": []
          },
          "execution_count": 46
        }
      ]
    },
    {
      "cell_type": "code",
      "metadata": {
        "id": "TVlU8sqcVHB2"
      },
      "source": [
        "C = 1  # SVM regularization parameter"
      ],
      "execution_count": 24,
      "outputs": []
    },
    {
      "cell_type": "code",
      "metadata": {
        "id": "jyrxtKloix-L"
      },
      "source": [
        "#SVC: Support Vector Classifier\n",
        "#SVR: Support Vector Regressor"
      ],
      "execution_count": null,
      "outputs": []
    },
    {
      "cell_type": "code",
      "metadata": {
        "colab": {
          "base_uri": "https://localhost:8080/"
        },
        "id": "K8Ar5mNOVMig",
        "outputId": "4126e0d7-a5c6-49f3-c270-72a8aab6fe8e"
      },
      "source": [
        "svc = svm.SVC(kernel='linear', C=C).fit(X, y)\n",
        "rbf_svc = svm.SVC(kernel='rbf', gamma=0.5, C=C).fit(X, y)\n",
        "poly_svc = svm.SVC(kernel='poly', degree=5, C=C).fit(X, y)\n",
        "lin_svc = svm.LinearSVC(C=C).fit(X, y)"
      ],
      "execution_count": 56,
      "outputs": [
        {
          "output_type": "stream",
          "text": [
            "/usr/local/lib/python3.7/dist-packages/sklearn/svm/_base.py:947: ConvergenceWarning: Liblinear failed to converge, increase the number of iterations.\n",
            "  \"the number of iterations.\", ConvergenceWarning)\n"
          ],
          "name": "stderr"
        }
      ]
    },
    {
      "cell_type": "code",
      "metadata": {
        "colab": {
          "base_uri": "https://localhost:8080/"
        },
        "id": "K2Sgk4lGlH2t",
        "outputId": "b95f9978-527e-427e-916e-cecbf0066bdd"
      },
      "source": [
        "y_pred = rbf_svc.predict(X)\n",
        "print(\"RBF\", accuracy_score(y,y_pred))\n",
        "\n",
        "y_pred = lin_svc.predict(X)\n",
        "print(\"linear\", accuracy_score(y,y_pred))\n",
        "\n",
        "y_pred=poly_svc.predict(X)\n",
        "print(\"Polynomial\",accuracy_score(y,y_pred))"
      ],
      "execution_count": 57,
      "outputs": [
        {
          "output_type": "stream",
          "text": [
            "RBF 0.8266666666666667\n",
            "linear 0.8\n",
            "Polynomial 0.7933333333333333\n"
          ],
          "name": "stdout"
        }
      ]
    },
    {
      "cell_type": "code",
      "metadata": {
        "colab": {
          "base_uri": "https://localhost:8080/"
        },
        "id": "qxyxUSCoXc_9",
        "outputId": "d8bc09ea-3ced-4245-b58b-4a0f2f343e0e"
      },
      "source": [
        "from sklearn.metrics import classification_report, confusion_matrix\n",
        "from sklearn.metrics import accuracy_score\n",
        "\n",
        "y_pred = rbf_svc.predict(X)\n",
        "print(\"RBF\", accuracy_score(y,y_pred))\n",
        "\n",
        "print(confusion_matrix(y, y_pred))\n",
        "print(classification_report(y, y_pred))\n",
        "print(accuracy_score(y,y_pred))"
      ],
      "execution_count": 44,
      "outputs": [
        {
          "output_type": "stream",
          "text": [
            "RBF 0.82\n",
            "[[50  0  0]\n",
            " [ 0 38 12]\n",
            " [ 0 15 35]]\n",
            "              precision    recall  f1-score   support\n",
            "\n",
            "           0       1.00      1.00      1.00        50\n",
            "           1       0.72      0.76      0.74        50\n",
            "           2       0.74      0.70      0.72        50\n",
            "\n",
            "    accuracy                           0.82       150\n",
            "   macro avg       0.82      0.82      0.82       150\n",
            "weighted avg       0.82      0.82      0.82       150\n",
            "\n",
            "0.82\n"
          ],
          "name": "stdout"
        }
      ]
    },
    {
      "cell_type": "code",
      "metadata": {
        "colab": {
          "base_uri": "https://localhost:8080/"
        },
        "id": "OL4kZa1ZX40N",
        "outputId": "a3535c12-e50c-47bf-ae39-1ba76513d0cd"
      },
      "source": [
        "y_pred = lin_svc.predict(X)\n",
        "print(confusion_matrix(y, y_pred))\n",
        "print(\"Linear\")\n",
        "print(classification_report(y, y_pred))"
      ],
      "execution_count": 40,
      "outputs": [
        {
          "output_type": "stream",
          "text": [
            "[[49  1  0]\n",
            " [ 2 30 18]\n",
            " [ 0  9 41]]\n",
            "Linear\n",
            "              precision    recall  f1-score   support\n",
            "\n",
            "           0       0.96      0.98      0.97        50\n",
            "           1       0.75      0.60      0.67        50\n",
            "           2       0.69      0.82      0.75        50\n",
            "\n",
            "    accuracy                           0.80       150\n",
            "   macro avg       0.80      0.80      0.80       150\n",
            "weighted avg       0.80      0.80      0.80       150\n",
            "\n"
          ],
          "name": "stdout"
        }
      ]
    },
    {
      "cell_type": "code",
      "metadata": {
        "colab": {
          "base_uri": "https://localhost:8080/"
        },
        "id": "qFVXyC29YD6B",
        "outputId": "7687d256-cc6c-446e-c467-aafc9e9d8b6e"
      },
      "source": [
        "y_pred = poly_svc.predict(X)\n",
        "print(confusion_matrix(y, y_pred))\n",
        "print(\"Polynomial\")\n",
        "print(classification_report(y, y_pred))"
      ],
      "execution_count": 41,
      "outputs": [
        {
          "output_type": "stream",
          "text": [
            "[[49  1  0]\n",
            " [ 2 30 18]\n",
            " [ 0  9 41]]\n",
            "Polynomial\n",
            "              precision    recall  f1-score   support\n",
            "\n",
            "           0       0.96      0.98      0.97        50\n",
            "           1       0.75      0.60      0.67        50\n",
            "           2       0.69      0.82      0.75        50\n",
            "\n",
            "    accuracy                           0.80       150\n",
            "   macro avg       0.80      0.80      0.80       150\n",
            "weighted avg       0.80      0.80      0.80       150\n",
            "\n"
          ],
          "name": "stdout"
        }
      ]
    },
    {
      "cell_type": "code",
      "metadata": {
        "colab": {
          "base_uri": "https://localhost:8080/",
          "height": 278
        },
        "id": "0RLS0GNDUSiI",
        "outputId": "a6e86d82-75de-4757-f8aa-95f1f28c7aa0"
      },
      "source": [
        "# create a mesh to plot in\n",
        "x_min, x_max = X[:, 0].min() - 1, X[:, 0].max() + 1\n",
        "y_min, y_max = X[:, 1].min() - 1, X[:, 1].max() + 1\n",
        "xx, yy = np.meshgrid(np.arange(x_min, x_max, 0.02),\n",
        "                     np.arange(y_min, y_max, 0.02))\n",
        "\n",
        "# title for the plots\n",
        "titles = ['SVC with linear kernel',\n",
        "          'LinearSVC (linear kernel)',\n",
        "          'SVC with RBF kernel (Gamma=0.5)',\n",
        "          'SVC with polynomial (degree 5) kernel']\n",
        "\n",
        "\n",
        "for i, clf in enumerate((svc, lin_svc, rbf_svc, poly_svc)):\n",
        "    plt.subplot(2, 2, i + 1)\n",
        "    plt.subplots_adjust(wspace=0.4, hspace=0.4)\n",
        "\n",
        "    Z = clf.predict(np.c_[xx.ravel(), yy.ravel()])\n",
        "\n",
        "    # Put the result into a color plot\n",
        "    Z = Z.reshape(xx.shape)\n",
        "    plt.contourf(xx, yy, Z, cmap=plt.cm.coolwarm, alpha=0.8)\n",
        "\n",
        "    # Plot also the training points\n",
        "    plt.scatter(X[:, 0], X[:, 1], c=y, cmap=plt.cm.coolwarm)\n",
        "    plt.xlabel('Sepal length')\n",
        "    plt.ylabel('Sepal width')\n",
        "    plt.xlim(xx.min(), xx.max())\n",
        "    plt.ylim(yy.min(), yy.max())\n",
        "    plt.xticks(())\n",
        "    plt.yticks(())\n",
        "    plt.title(titles[i])\n",
        "\n",
        "plt.show()"
      ],
      "execution_count": 58,
      "outputs": [
        {
          "output_type": "display_data",
          "data": {
            "image/png": "[encoded data removed]",
            "text/plain": [
              "<Figure size 432x288 with 4 Axes>"
            ]
          },
          "metadata": {
            "tags": []
          }
        }
      ]
    },
    {
      "cell_type": "code",
      "metadata": {
        "id": "rNWR6iuzUuZA"
      },
      "source": [
        ""
      ],
      "execution_count": null,
      "outputs": []
    }
  ]
}