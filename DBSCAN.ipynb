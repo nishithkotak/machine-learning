{
  "nbformat": 4,
  "nbformat_minor": 0,
  "metadata": {
    "colab": {
      "name": "DBSCAN.ipynb",
      "provenance": [],
      "authorship_tag": "ABX9TyOvKbWX+fCI4m9tEZH4pdDP"
    },
    "kernelspec": {
      "name": "python3",
      "display_name": "Python 3"
    },
    "language_info": {
      "name": "python"
    }
  },
  "cells": [
    {
      "cell_type": "code",
      "metadata": {
        "id": "ZvNlKcW8ms-9"
      },
      "source": [
        "import numpy as np\n",
        "import pandas as pd\n",
        "import matplotlib.pyplot as plt"
      ],
      "execution_count": null,
      "outputs": []
    },
    {
      "cell_type": "code",
      "metadata": {
        "id": "UpKyTtM-m-VD"
      },
      "source": [
        "from google.colab import drive #toimport google drive data"
      ],
      "execution_count": null,
      "outputs": []
    },
    {
      "cell_type": "code",
      "metadata": {
        "colab": {
          "base_uri": "https://localhost:8080/"
        },
        "id": "KzybwmdAnB1i",
        "outputId": "62393f18-a2be-4124-8ac2-7ef3ec281926"
      },
      "source": [
        "drive.mount('/content/drive') #to mount the drive data into colab clound and enterr the activation code"
      ],
      "execution_count": null,
      "outputs": [
        {
          "output_type": "stream",
          "text": [
            "Drive already mounted at /content/drive; to attempt to forcibly remount, call drive.mount(\"/content/drive\", force_remount=True).\n"
          ],
          "name": "stdout"
        }
      ]
    },
    {
      "cell_type": "code",
      "metadata": {
        "colab": {
          "base_uri": "https://localhost:8080/"
        },
        "id": "p4WdRPlwoHXd",
        "outputId": "be73dbc6-2aa3-45a6-afaf-2d36d03b95a5"
      },
      "source": [
        "cd /content/drive/\"My Drive\""
      ],
      "execution_count": null,
      "outputs": [
        {
          "output_type": "stream",
          "text": [
            "/content/drive/My Drive\n"
          ],
          "name": "stdout"
        }
      ]
    },
    {
      "cell_type": "code",
      "metadata": {
        "id": "h6JpT0ctnDO-"
      },
      "source": [
        "dataset = pd.read_csv('Colab Notebooks/KMeans.csv')"
      ],
      "execution_count": null,
      "outputs": []
    },
    {
      "cell_type": "code",
      "metadata": {
        "id": "Vf7lrKpMnNQp"
      },
      "source": [
        "X = dataset.iloc[:, [1, 2]].values"
      ],
      "execution_count": null,
      "outputs": []
    },
    {
      "cell_type": "code",
      "metadata": {
        "colab": {
          "base_uri": "https://localhost:8080/",
          "height": 402
        },
        "id": "5vykaWnipA1g",
        "outputId": "78167692-333b-4e00-9c86-bcc58bc32b36"
      },
      "source": [
        "dataset"
      ],
      "execution_count": null,
      "outputs": [
        {
          "output_type": "execute_result",
          "data": {
            "text/html": [
              "<div>\n",
              "<style scoped>\n",
              "    .dataframe tbody tr th:only-of-type {\n",
              "        vertical-align: middle;\n",
              "    }\n",
              "\n",
              "    .dataframe tbody tr th {\n",
              "        vertical-align: top;\n",
              "    }\n",
              "\n",
              "    .dataframe thead th {\n",
              "        text-align: right;\n",
              "    }\n",
              "</style>\n",
              "<table border=\"1\" class=\"dataframe\">\n",
              "  <thead>\n",
              "    <tr style=\"text-align: right;\">\n",
              "      <th></th>\n",
              "      <th>Age</th>\n",
              "      <th>Annual Income (k$)</th>\n",
              "      <th>Spending Score (1-100)</th>\n",
              "    </tr>\n",
              "  </thead>\n",
              "  <tbody>\n",
              "    <tr>\n",
              "      <th>0</th>\n",
              "      <td>19</td>\n",
              "      <td>15</td>\n",
              "      <td>39</td>\n",
              "    </tr>\n",
              "    <tr>\n",
              "      <th>1</th>\n",
              "      <td>21</td>\n",
              "      <td>15</td>\n",
              "      <td>81</td>\n",
              "    </tr>\n",
              "    <tr>\n",
              "      <th>2</th>\n",
              "      <td>20</td>\n",
              "      <td>16</td>\n",
              "      <td>6</td>\n",
              "    </tr>\n",
              "    <tr>\n",
              "      <th>3</th>\n",
              "      <td>23</td>\n",
              "      <td>16</td>\n",
              "      <td>77</td>\n",
              "    </tr>\n",
              "    <tr>\n",
              "      <th>4</th>\n",
              "      <td>31</td>\n",
              "      <td>17</td>\n",
              "      <td>40</td>\n",
              "    </tr>\n",
              "    <tr>\n",
              "      <th>...</th>\n",
              "      <td>...</td>\n",
              "      <td>...</td>\n",
              "      <td>...</td>\n",
              "    </tr>\n",
              "    <tr>\n",
              "      <th>195</th>\n",
              "      <td>35</td>\n",
              "      <td>120</td>\n",
              "      <td>79</td>\n",
              "    </tr>\n",
              "    <tr>\n",
              "      <th>196</th>\n",
              "      <td>45</td>\n",
              "      <td>126</td>\n",
              "      <td>28</td>\n",
              "    </tr>\n",
              "    <tr>\n",
              "      <th>197</th>\n",
              "      <td>32</td>\n",
              "      <td>126</td>\n",
              "      <td>74</td>\n",
              "    </tr>\n",
              "    <tr>\n",
              "      <th>198</th>\n",
              "      <td>32</td>\n",
              "      <td>137</td>\n",
              "      <td>18</td>\n",
              "    </tr>\n",
              "    <tr>\n",
              "      <th>199</th>\n",
              "      <td>30</td>\n",
              "      <td>137</td>\n",
              "      <td>83</td>\n",
              "    </tr>\n",
              "  </tbody>\n",
              "</table>\n",
              "<p>200 rows × 3 columns</p>\n",
              "</div>"
            ],
            "text/plain": [
              "     Age  Annual Income (k$)  Spending Score (1-100)\n",
              "0     19                  15                      39\n",
              "1     21                  15                      81\n",
              "2     20                  16                       6\n",
              "3     23                  16                      77\n",
              "4     31                  17                      40\n",
              "..   ...                 ...                     ...\n",
              "195   35                 120                      79\n",
              "196   45                 126                      28\n",
              "197   32                 126                      74\n",
              "198   32                 137                      18\n",
              "199   30                 137                      83\n",
              "\n",
              "[200 rows x 3 columns]"
            ]
          },
          "metadata": {
            "tags": []
          },
          "execution_count": 41
        }
      ]
    },
    {
      "cell_type": "code",
      "metadata": {
        "id": "iW_-O0A5pBeO"
      },
      "source": [
        "from sklearn.cluster import DBSCAN\n",
        "from sklearn import metrics\n",
        "from sklearn.preprocessing import StandardScaler\n",
        "from sklearn.neighbors import NearestNeighbors\n",
        "import numpy as np\n",
        "import matplotlib.pyplot as plt\n",
        "import pandas as pd"
      ],
      "execution_count": null,
      "outputs": []
    },
    {
      "cell_type": "code",
      "metadata": {
        "id": "-pTJnpFepS3U"
      },
      "source": [
        "X=StandardScaler().fit_transform(X)"
      ],
      "execution_count": null,
      "outputs": []
    },
    {
      "cell_type": "code",
      "metadata": {
        "id": "zjCr_kBhrPul"
      },
      "source": [
        "ns=3"
      ],
      "execution_count": null,
      "outputs": []
    },
    {
      "cell_type": "code",
      "metadata": {
        "id": "TQZ7dOYipzzP"
      },
      "source": [
        "nearestneighbours=NearestNeighbors(3).fit(X)"
      ],
      "execution_count": null,
      "outputs": []
    },
    {
      "cell_type": "code",
      "metadata": {
        "colab": {
          "base_uri": "https://localhost:8080/"
        },
        "id": "cl2uFCS9p0st",
        "outputId": "e8e381d4-87c1-467e-c438-575cf94a482f"
      },
      "source": [
        "nearestneighbours"
      ],
      "execution_count": null,
      "outputs": [
        {
          "output_type": "execute_result",
          "data": {
            "text/plain": [
              "NearestNeighbors(algorithm='auto', leaf_size=30, metric='minkowski',\n",
              "                 metric_params=None, n_jobs=None, n_neighbors=3, p=2,\n",
              "                 radius=1.0)"
            ]
          },
          "metadata": {
            "tags": []
          },
          "execution_count": 46
        }
      ]
    },
    {
      "cell_type": "code",
      "metadata": {
        "id": "-Ta3jJsCqN2a"
      },
      "source": [
        "distances, indices = nearestneighbours.kneighbors(X)"
      ],
      "execution_count": null,
      "outputs": []
    },
    {
      "cell_type": "code",
      "metadata": {
        "colab": {
          "base_uri": "https://localhost:8080/"
        },
        "id": "Bht5n6e2q1Yy",
        "outputId": "04aecac9-fa1b-463f-d3d6-03ea0325eb74"
      },
      "source": [
        "indices"
      ],
      "execution_count": null,
      "outputs": [
        {
          "output_type": "execute_result",
          "data": {
            "text/plain": [
              "array([[  0,   4,  16],\n",
              "       [  1,   3,  15],\n",
              "       [  2,   6,   8],\n",
              "       [  3,   5,  13],\n",
              "       [  4,   0,  16],\n",
              "       [  5,   3,  13],\n",
              "       [  6,   2,   8],\n",
              "       [  7,  11,  19],\n",
              "       [  8,   6,   2],\n",
              "       [  9,   5,  21],\n",
              "       [ 10,  14,  12],\n",
              "       [ 11,  19,   7],\n",
              "       [ 12,  10,  14],\n",
              "       [ 13,  15,   5],\n",
              "       [ 14,  10,  12],\n",
              "       [ 15,  13,   5],\n",
              "       [ 16,  20,  18],\n",
              "       [ 17,   9,  21],\n",
              "       [ 18,  26,  20],\n",
              "       [ 19,  11,   7],\n",
              "       [ 20,  16,  26],\n",
              "       [ 21,  23,   9],\n",
              "       [ 22,  30,   8],\n",
              "       [ 23,  21,  31],\n",
              "       [ 24,  34,  36],\n",
              "       [ 25,  35,  29],\n",
              "       [ 26,  28,  20],\n",
              "       [ 27,  17,  43],\n",
              "       [ 28,  26,  18],\n",
              "       [ 29,  25,  33],\n",
              "       [ 30,  32,  22],\n",
              "       [ 31,  37,  23],\n",
              "       [ 32,  30,  22],\n",
              "       [ 33,  41,  29],\n",
              "       [ 34,  36,  24],\n",
              "       [ 35,  25,  29],\n",
              "       [ 36,  34,  24],\n",
              "       [ 37,  39,  31],\n",
              "       [ 38,  44,  40],\n",
              "       [ 39,  37,  31],\n",
              "       [ 40,  42,  44],\n",
              "       [ 41,  33,  29],\n",
              "       [ 42,  40,  48],\n",
              "       [ 43,  51,  45],\n",
              "       [ 44,  38,  40],\n",
              "       [ 45,  43,  51],\n",
              "       [ 46,  52,  50],\n",
              "       [ 47,  54,  57],\n",
              "       [ 49,  48,  55],\n",
              "       [ 49,  48,  55],\n",
              "       [ 50,  52,  56],\n",
              "       [ 51,  53,  43],\n",
              "       [ 52,  50,  61],\n",
              "       [ 53,  51,  63],\n",
              "       [ 54,  57,  59],\n",
              "       [ 55,  49,  48],\n",
              "       [ 56,  58,  50],\n",
              "       [ 57,  54,  59],\n",
              "       [ 58,  62,  64],\n",
              "       [ 59,  57,  69],\n",
              "       [ 60,  61,  70],\n",
              "       [ 61,  60,  70],\n",
              "       [ 62,  64,  58],\n",
              "       [ 63,  68,  65],\n",
              "       [ 64,  66,  62],\n",
              "       [ 65,  68,  63],\n",
              "       [ 66,  64,  67],\n",
              "       [ 67,  69,  66],\n",
              "       [ 65,  68,  63],\n",
              "       [ 69,  67,  59],\n",
              "       [ 70,  73,  61],\n",
              "       [ 71,  79,  59],\n",
              "       [ 72,  66,  67],\n",
              "       [ 73,  70,  68],\n",
              "       [ 74,  85,  77],\n",
              "       [ 75,  76,  81],\n",
              "       [ 76,  78,  75],\n",
              "       [ 77,  74,  85],\n",
              "       [ 78,  76,  80],\n",
              "       [ 79,  82,  83],\n",
              "       [ 80,  78,  76],\n",
              "       [ 81,  75,  84],\n",
              "       [ 82,  79,  83],\n",
              "       [ 83,  85,  79],\n",
              "       [ 84,  81,  75],\n",
              "       [ 85,  74,  77],\n",
              "       [ 86,  88,  87],\n",
              "       [ 87,  90,  81],\n",
              "       [ 88,  86, 102],\n",
              "       [ 89,  96,  92],\n",
              "       [ 90,  87, 103],\n",
              "       [ 91,  94,  93],\n",
              "       [ 92,  99,  97],\n",
              "       [ 93,  91,  94],\n",
              "       [ 94,  98,  91],\n",
              "       [ 95,  97, 110],\n",
              "       [ 96,  92, 101],\n",
              "       [ 97,  92,  99],\n",
              "       [ 98, 105,  94],\n",
              "       [ 99,  92,  97],\n",
              "       [100, 105,  98],\n",
              "       [101, 109,  99],\n",
              "       [102, 117, 104],\n",
              "       [103, 104, 111],\n",
              "       [104, 103, 111],\n",
              "       [105,  98, 100],\n",
              "       [106, 115, 110],\n",
              "       [107, 113, 109],\n",
              "       [108, 105, 112],\n",
              "       [109, 101, 114],\n",
              "       [110, 111, 106],\n",
              "       [111, 103, 110],\n",
              "       [112, 116, 108],\n",
              "       [113, 107, 114],\n",
              "       [114, 109, 115],\n",
              "       [115, 106, 114],\n",
              "       [116, 112, 118],\n",
              "       [117, 119, 102],\n",
              "       [118, 116, 121],\n",
              "       [119, 120, 122],\n",
              "       [120, 119, 122],\n",
              "       [121, 118, 112],\n",
              "       [122, 119, 120],\n",
              "       [123, 127, 135],\n",
              "       [124, 132, 126],\n",
              "       [125, 129, 131],\n",
              "       [126, 132, 146],\n",
              "       [127, 141, 123],\n",
              "       [128, 130, 138],\n",
              "       [129, 131, 125],\n",
              "       [130, 128, 136],\n",
              "       [129, 131, 125],\n",
              "       [132, 126, 146],\n",
              "       [133, 139, 137],\n",
              "       [134, 140, 136],\n",
              "       [135, 143, 151],\n",
              "       [136, 134, 130],\n",
              "       [137, 139, 133],\n",
              "       [138, 130, 128],\n",
              "       [139, 137, 133],\n",
              "       [140, 134, 136],\n",
              "       [141, 149, 127],\n",
              "       [142, 146, 160],\n",
              "       [143, 151, 155],\n",
              "       [144, 138, 154],\n",
              "       [145, 141, 163],\n",
              "       [146, 160, 142],\n",
              "       [147, 159, 153],\n",
              "       [148, 152, 150],\n",
              "       [149, 155, 151],\n",
              "       [150, 154, 152],\n",
              "       [151, 155, 149],\n",
              "       [152, 148, 150],\n",
              "       [153, 157, 147],\n",
              "       [154, 150, 152],\n",
              "       [155, 151, 149],\n",
              "       [158, 156, 140],\n",
              "       [157, 153, 147],\n",
              "       [158, 156, 140],\n",
              "       [159, 147, 153],\n",
              "       [160, 146, 142],\n",
              "       [161, 143, 151],\n",
              "       [162, 158, 156],\n",
              "       [163, 149, 155],\n",
              "       [164, 168, 166],\n",
              "       [165, 171, 177],\n",
              "       [166, 176, 164],\n",
              "       [167, 173, 163],\n",
              "       [168, 164, 166],\n",
              "       [169, 177, 171],\n",
              "       [170, 174, 176],\n",
              "       [171, 165, 177],\n",
              "       [172, 170, 174],\n",
              "       [173, 167, 163],\n",
              "       [174, 170, 176],\n",
              "       [175, 173, 179],\n",
              "       [176, 174, 170],\n",
              "       [177, 171, 169],\n",
              "       [178, 174, 176],\n",
              "       [179, 183, 181],\n",
              "       [180, 184, 186],\n",
              "       [181, 183, 179],\n",
              "       [182, 178, 188],\n",
              "       [183, 181, 179],\n",
              "       [184, 180, 186],\n",
              "       [185, 183, 179],\n",
              "       [186, 190, 188],\n",
              "       [187, 191, 177],\n",
              "       [188, 182, 190],\n",
              "       [189, 183, 181],\n",
              "       [190, 186, 188],\n",
              "       [191, 187, 177],\n",
              "       [192, 194, 188],\n",
              "       [193, 189, 195],\n",
              "       [194, 192, 196],\n",
              "       [195, 197, 193],\n",
              "       [196, 194, 198],\n",
              "       [197, 195, 199],\n",
              "       [198, 196, 194],\n",
              "       [199, 197, 195]])"
            ]
          },
          "metadata": {
            "tags": []
          },
          "execution_count": 48
        }
      ]
    },
    {
      "cell_type": "code",
      "metadata": {
        "id": "NdxlZcuQq0X4"
      },
      "source": [
        "distanceDec = sorted(distances[:,ns-1], reverse=True)"
      ],
      "execution_count": null,
      "outputs": []
    },
    {
      "cell_type": "code",
      "metadata": {
        "colab": {
          "base_uri": "https://localhost:8080/"
        },
        "id": "4zBDEr1PrWrq",
        "outputId": "1de77d66-4009-438e-daba-53dc45d7fc82"
      },
      "source": [
        "distances"
      ],
      "execution_count": null,
      "outputs": [
        {
          "output_type": "execute_result",
          "data": {
            "text/plain": [
              "array([[0.        , 0.08564307, 0.27669913],\n",
              "       [0.        , 0.15990848, 0.20603662],\n",
              "       [0.        , 0.07633886, 0.16332841],\n",
              "       [0.        , 0.0544428 , 0.15267772],\n",
              "       [0.        , 0.08564307, 0.24695814],\n",
              "       [0.        , 0.0544428 , 0.12091014],\n",
              "       [0.        , 0.07633886, 0.12255989],\n",
              "       [0.        , 0.19782504, 0.24604156],\n",
              "       [0.        , 0.12255989, 0.16332841],\n",
              "       [0.        , 0.17303595, 0.19475561],\n",
              "       [0.        , 0.0544428 , 0.0544428 ],\n",
              "       [0.        , 0.15753602, 0.19782504],\n",
              "       [0.        , 0.0544428 , 0.07764312],\n",
              "       [0.        , 0.07764312, 0.12091014],\n",
              "       [0.        , 0.0544428 , 0.07764312],\n",
              "       [0.        , 0.07764312, 0.16332841],\n",
              "       [0.        , 0.11450829, 0.24511979],\n",
              "       [0.        , 0.24511979, 0.29489102],\n",
              "       [0.        , 0.22357696, 0.236036  ],\n",
              "       [0.        , 0.15753602, 0.24604156],\n",
              "       [0.        , 0.11450829, 0.19202736],\n",
              "       [0.        , 0.03816943, 0.19475561],\n",
              "       [0.        , 0.19475561, 0.24182028],\n",
              "       [0.        , 0.03816943, 0.19084715],\n",
              "       [0.        , 0.19084715, 0.2569292 ],\n",
              "       [0.        , 0.19475561, 0.19782504],\n",
              "       [0.        , 0.0544428 , 0.19202736],\n",
              "       [0.        , 0.33025172, 0.41986372],\n",
              "       [0.        , 0.0544428 , 0.24182028],\n",
              "       [0.        , 0.19782504, 0.24695814],\n",
              "       [0.        , 0.11450829, 0.19475561],\n",
              "       [0.        , 0.15267772, 0.19084715],\n",
              "       [0.        , 0.11450829, 0.30781334],\n",
              "       [0.        , 0.19084715, 0.24695814],\n",
              "       [0.        , 0.12255989, 0.19084715],\n",
              "       [0.        , 0.19475561, 0.27850776],\n",
              "       [0.        , 0.12255989, 0.2569292 ],\n",
              "       [0.        , 0.13834957, 0.15267772],\n",
              "       [0.        , 0.10888561, 0.35147277],\n",
              "       [0.        , 0.13834957, 0.27823877],\n",
              "       [0.        , 0.0544428 , 0.27441842],\n",
              "       [0.        , 0.19084715, 0.39457214],\n",
              "       [0.        , 0.0544428 , 0.236036  ],\n",
              "       [0.        , 0.12091014, 0.15528624],\n",
              "       [0.        , 0.10888561, 0.27441842],\n",
              "       [0.        , 0.15528624, 0.22536634],\n",
              "       [0.        , 0.12091014, 0.13925388],\n",
              "       [0.        , 0.13834957, 0.15753602],\n",
              "       [0.        , 0.        , 0.12091014],\n",
              "       [0.        , 0.        , 0.12091014],\n",
              "       [0.        , 0.08651797, 0.10888561],\n",
              "       [0.        , 0.03816943, 0.12091014],\n",
              "       [0.        , 0.08651797, 0.12091014],\n",
              "       [0.        , 0.03816943, 0.15753602],\n",
              "       [0.        , 0.0544428 , 0.12091014],\n",
              "       [0.        , 0.12091014, 0.12091014],\n",
              "       [0.        , 0.08564307, 0.10888561],\n",
              "       [0.        , 0.0544428 , 0.07633886],\n",
              "       [0.        , 0.0544428 , 0.07633886],\n",
              "       [0.        , 0.07633886, 0.08564307],\n",
              "       [0.        , 0.03882156, 0.12091014],\n",
              "       [0.        , 0.03882156, 0.11450829],\n",
              "       [0.        , 0.0544428 , 0.0544428 ],\n",
              "       [0.        , 0.03816943, 0.03816943],\n",
              "       [0.        , 0.03882156, 0.0544428 ],\n",
              "       [0.        , 0.        , 0.03816943],\n",
              "       [0.        , 0.03882156, 0.07764312],\n",
              "       [0.        , 0.03882156, 0.07764312],\n",
              "       [0.        , 0.        , 0.03816943],\n",
              "       [0.        , 0.03882156, 0.08564307],\n",
              "       [0.        , 0.0544428 , 0.11450829],\n",
              "       [0.        , 0.19084715, 0.19294031],\n",
              "       [0.        , 0.08564307, 0.08564307],\n",
              "       [0.        , 0.0544428 , 0.13925388],\n",
              "       [0.        , 0.03882156, 0.03882156],\n",
              "       [0.        , 0.03882156, 0.03882156],\n",
              "       [0.        , 0.03882156, 0.03882156],\n",
              "       [0.        , 0.03882156, 0.07764312],\n",
              "       [0.        , 0.03882156, 0.03882156],\n",
              "       [0.        , 0.03882156, 0.07764312],\n",
              "       [0.        , 0.03882156, 0.07764312],\n",
              "       [0.        , 0.03882156, 0.07764312],\n",
              "       [0.        , 0.03882156, 0.11646468],\n",
              "       [0.        , 0.07764312, 0.07764312],\n",
              "       [0.        , 0.07764312, 0.11646468],\n",
              "       [0.        , 0.03882156, 0.07764312],\n",
              "       [0.        , 0.08651797, 0.11646468],\n",
              "       [0.        , 0.07633886, 0.11450829],\n",
              "       [0.        , 0.08651797, 0.15753602],\n",
              "       [0.        , 0.08564307, 0.13925388],\n",
              "       [0.        , 0.07633886, 0.11450829],\n",
              "       [0.        , 0.0544428 , 0.0544428 ],\n",
              "       [0.        , 0.03816943, 0.03882156],\n",
              "       [0.        , 0.0544428 , 0.07764312],\n",
              "       [0.        , 0.03816943, 0.0544428 ],\n",
              "       [0.        , 0.07764312, 0.11450829],\n",
              "       [0.        , 0.07764312, 0.08564307],\n",
              "       [0.        , 0.03882156, 0.0544428 ],\n",
              "       [0.        , 0.03816943, 0.03816943],\n",
              "       [0.        , 0.03816943, 0.0544428 ],\n",
              "       [0.        , 0.03882156, 0.0544428 ],\n",
              "       [0.        , 0.03816943, 0.0544428 ],\n",
              "       [0.        , 0.11450829, 0.11646468],\n",
              "       [0.        , 0.03882156, 0.0544428 ],\n",
              "       [0.        , 0.03882156, 0.08651797],\n",
              "       [0.        , 0.03816943, 0.03882156],\n",
              "       [0.        , 0.07633886, 0.07764312],\n",
              "       [0.        , 0.03816943, 0.07764312],\n",
              "       [0.        , 0.0544428 , 0.0544428 ],\n",
              "       [0.        , 0.03816943, 0.07633886],\n",
              "       [0.        , 0.07764312, 0.07764312],\n",
              "       [0.        , 0.0544428 , 0.07764312],\n",
              "       [0.        , 0.0544428 , 0.0544428 ],\n",
              "       [0.        , 0.03816943, 0.08651797],\n",
              "       [0.        , 0.07633886, 0.07764312],\n",
              "       [0.        , 0.07633886, 0.07764312],\n",
              "       [0.        , 0.0544428 , 0.07633886],\n",
              "       [0.        , 0.10888561, 0.11450829],\n",
              "       [0.        , 0.07633886, 0.11646468],\n",
              "       [0.        , 0.03882156, 0.08564307],\n",
              "       [0.        , 0.03882156, 0.10888561],\n",
              "       [0.        , 0.11646468, 0.13834957],\n",
              "       [0.        , 0.08564307, 0.10888561],\n",
              "       [0.        , 0.17303595, 0.19202736],\n",
              "       [0.        , 0.20857963, 0.236036  ],\n",
              "       [0.        , 0.08651797, 0.08651797],\n",
              "       [0.        , 0.0544428 , 0.23228367],\n",
              "       [0.        , 0.17128613, 0.17303595],\n",
              "       [0.        , 0.07764312, 0.12091014],\n",
              "       [0.        , 0.        , 0.08651797],\n",
              "       [0.        , 0.07764312, 0.10888561],\n",
              "       [0.        , 0.        , 0.08651797],\n",
              "       [0.        , 0.0544428 , 0.20603662],\n",
              "       [0.        , 0.08564307, 0.08651797],\n",
              "       [0.        , 0.07633886, 0.07764312],\n",
              "       [0.        , 0.12091014, 0.19084715],\n",
              "       [0.        , 0.07764312, 0.10888561],\n",
              "       [0.        , 0.0544428 , 0.08651797],\n",
              "       [0.        , 0.12091014, 0.12091014],\n",
              "       [0.        , 0.0544428 , 0.08564307],\n",
              "       [0.        , 0.07633886, 0.10888561],\n",
              "       [0.        , 0.16332841, 0.17128613],\n",
              "       [0.        , 0.15990848, 0.22536634],\n",
              "       [0.        , 0.08564307, 0.10888561],\n",
              "       [0.        , 0.13834957, 0.15990848],\n",
              "       [0.        , 0.17303595, 0.21777122],\n",
              "       [0.        , 0.08564307, 0.15990848],\n",
              "       [0.        , 0.0544428 , 0.08651797],\n",
              "       [0.        , 0.07764312, 0.1941078 ],\n",
              "       [0.        , 0.03882156, 0.07764312],\n",
              "       [0.        , 0.03882156, 0.11646468],\n",
              "       [0.        , 0.03882156, 0.07764312],\n",
              "       [0.        , 0.07764312, 0.11646468],\n",
              "       [0.        , 0.07764312, 0.08651797],\n",
              "       [0.        , 0.03882156, 0.15528624],\n",
              "       [0.        , 0.03882156, 0.03882156],\n",
              "       [0.        , 0.        , 0.19294031],\n",
              "       [0.        , 0.07764312, 0.15990848],\n",
              "       [0.        , 0.        , 0.19294031],\n",
              "       [0.        , 0.0544428 , 0.11646468],\n",
              "       [0.        , 0.08564307, 0.22536634],\n",
              "       [0.        , 0.19294031, 0.19782504],\n",
              "       [0.        , 0.19294031, 0.19294031],\n",
              "       [0.        , 0.16332841, 0.19294031],\n",
              "       [0.        , 0.08564307, 0.236036  ],\n",
              "       [0.        , 0.07633886, 0.25955392],\n",
              "       [0.        , 0.20857963, 0.236036  ],\n",
              "       [0.        , 0.12255989, 0.20603662],\n",
              "       [0.        , 0.08564307, 0.27441842],\n",
              "       [0.        , 0.236036  , 0.46585873],\n",
              "       [0.        , 0.03816943, 0.08651797],\n",
              "       [0.        , 0.07633886, 0.236036  ],\n",
              "       [0.        , 0.11646468, 0.12255989],\n",
              "       [0.        , 0.12255989, 0.23228367],\n",
              "       [0.        , 0.03816943, 0.07764312],\n",
              "       [0.        , 0.236036  , 0.24604156],\n",
              "       [0.        , 0.07764312, 0.08651797],\n",
              "       [0.        , 0.236036  , 0.236036  ],\n",
              "       [0.        , 0.19475561, 0.19475561],\n",
              "       [0.        , 0.20603662, 0.21777122],\n",
              "       [0.        , 0.28226971, 0.34607189],\n",
              "       [0.        , 0.08651797, 0.21777122],\n",
              "       [0.        , 0.19475561, 0.20603662],\n",
              "       [0.        , 0.08651797, 0.20603662],\n",
              "       [0.        , 0.28226971, 0.58730586],\n",
              "       [0.        , 0.35147277, 0.35538311],\n",
              "       [0.        , 0.08564307, 0.28226971],\n",
              "       [0.        , 0.08564307, 0.49771891],\n",
              "       [0.        , 0.20603662, 0.23292936],\n",
              "       [0.        , 0.22357696, 0.23228367],\n",
              "       [0.        , 0.08564307, 0.23292936],\n",
              "       [0.        , 0.08564307, 0.57254144],\n",
              "       [0.        , 0.40968723, 0.51746182],\n",
              "       [0.        , 0.44715391, 0.5370407 ],\n",
              "       [0.        , 0.40968723, 0.51910784],\n",
              "       [0.        , 0.30021064, 0.5370407 ],\n",
              "       [0.        , 0.51910784, 0.57183643],\n",
              "       [0.        , 0.30021064, 0.54622499],\n",
              "       [0.        , 0.57183643, 0.65350906],\n",
              "       [0.        , 0.54622499, 0.66720271]])"
            ]
          },
          "metadata": {
            "tags": []
          },
          "execution_count": 50
        }
      ]
    },
    {
      "cell_type": "code",
      "metadata": {
        "colab": {
          "base_uri": "https://localhost:8080/",
          "height": 282
        },
        "id": "EYHwcZXere2l",
        "outputId": "b9044cf3-2022-4544-c3c8-01809866e9a5"
      },
      "source": [
        "plt.plot(indices[:,0], distanceDec)"
      ],
      "execution_count": null,
      "outputs": [
        {
          "output_type": "execute_result",
          "data": {
            "text/plain": [
              "[<matplotlib.lines.Line2D at 0x7fc54fb38b90>]"
            ]
          },
          "metadata": {
            "tags": []
          },
          "execution_count": 51
        },
        {
          "output_type": "display_data",
          "data": {
            "image/png": "[encoded data removed]",
            "text/plain": [
              "<Figure size 432x288 with 1 Axes>"
            ]
          },
          "metadata": {
            "tags": [],
            "needs_background": "light"
          }
        }
      ]
    },
    {
      "cell_type": "code",
      "metadata": {
        "id": "70IkzshXrvFF"
      },
      "source": [
        "db=DBSCAN(eps=0.3,min_samples=5).fit(X)"
      ],
      "execution_count": null,
      "outputs": []
    },
    {
      "cell_type": "code",
      "metadata": {
        "id": "5IWowF4b7MVA"
      },
      "source": [
        "labels = db.labels_"
      ],
      "execution_count": null,
      "outputs": []
    },
    {
      "cell_type": "code",
      "metadata": {
        "colab": {
          "base_uri": "https://localhost:8080/"
        },
        "id": "8qJLfBVB5zZo",
        "outputId": "e3c67a0c-877d-4f22-f7c2-2a5a26598a67"
      },
      "source": [
        "db.labels_"
      ],
      "execution_count": null,
      "outputs": [
        {
          "output_type": "execute_result",
          "data": {
            "text/plain": [
              "array([ 2,  0,  1,  0,  2,  0,  1, -1,  1,  0, -1, -1, -1,  0,  1,  0,  2,\n",
              "        0,  2, -1,  2,  0,  1,  0, -1, -1,  2, -1,  2, -1, -1,  0, -1, -1,\n",
              "       -1, -1, -1,  0, -1,  0,  3, -1,  3,  3,  3,  3,  3,  3,  3,  3,  3,\n",
              "        3,  3,  3,  3,  3,  3,  3,  3,  3,  3,  3,  3,  3,  3,  3,  3,  3,\n",
              "        3,  3,  3,  3,  3,  3,  3,  3,  3,  3,  3,  3,  3,  3,  3,  3,  3,\n",
              "        3,  3,  3,  3,  3,  3,  3,  3,  3,  3,  3,  3,  3,  3,  3,  3,  3,\n",
              "        3,  3,  3,  3,  3,  3,  3,  3,  3,  3,  3,  3,  3,  3,  3,  3,  3,\n",
              "        3,  3,  3,  3,  4,  3,  4,  3,  4,  5,  4,  5,  4,  3,  4,  5,  4,\n",
              "        5,  4,  5,  4,  5,  4,  3,  4,  5,  4,  3,  4,  5,  4,  5,  4,  5,\n",
              "        4,  5,  4,  5,  4,  5,  4,  3,  4,  5,  4,  6,  4,  6,  4,  6, -1,\n",
              "        6,  4,  6,  4,  6,  4,  6,  4,  6,  4, -1,  4,  6,  4, -1, -1, -1,\n",
              "       -1, -1, -1, -1, -1, -1, -1, -1, -1, -1, -1, -1, -1])"
            ]
          },
          "metadata": {
            "tags": []
          },
          "execution_count": 53
        }
      ]
    },
    {
      "cell_type": "code",
      "metadata": {
        "colab": {
          "base_uri": "https://localhost:8080/"
        },
        "id": "ohX11rDU6GjJ",
        "outputId": "31c3168d-7c5e-4b0f-d4b5-c42e26430ddd"
      },
      "source": [
        "db.core_sample_indices_   #Finds core samples of high density and expands clusters from them. Good for data which contains clusters of similar density."
      ],
      "execution_count": null,
      "outputs": [
        {
          "output_type": "execute_result",
          "data": {
            "text/plain": [
              "array([  1,   3,   5,   6,   9,  13,  15,  16,  18,  20,  21,  23,  26,\n",
              "        31,  40,  42,  43,  46,  47,  48,  49,  50,  51,  52,  53,  54,\n",
              "        55,  56,  57,  58,  59,  60,  61,  62,  63,  64,  65,  66,  67,\n",
              "        68,  69,  70,  71,  72,  73,  74,  75,  76,  77,  78,  79,  80,\n",
              "        81,  82,  83,  84,  85,  86,  87,  88,  89,  90,  91,  92,  93,\n",
              "        94,  95,  96,  97,  98,  99, 100, 101, 102, 103, 104, 105, 106,\n",
              "       107, 108, 109, 110, 111, 112, 113, 114, 115, 116, 117, 118, 119,\n",
              "       120, 121, 122, 125, 126, 127, 128, 129, 130, 131, 132, 133, 134,\n",
              "       135, 136, 137, 138, 139, 140, 141, 142, 143, 144, 145, 146, 147,\n",
              "       149, 150, 151, 153, 154, 155, 156, 157, 158, 159, 161, 163, 165,\n",
              "       166, 170, 172, 173, 174, 176, 178, 179])"
            ]
          },
          "metadata": {
            "tags": []
          },
          "execution_count": 58
        }
      ]
    },
    {
      "cell_type": "code",
      "metadata": {
        "id": "v4ILlmOVsLXD"
      },
      "source": [
        "core_samples_mask = np.zeros_like(db.labels_, dtype=bool)"
      ],
      "execution_count": null,
      "outputs": []
    },
    {
      "cell_type": "code",
      "metadata": {
        "colab": {
          "base_uri": "https://localhost:8080/"
        },
        "id": "4SA4F7gxsNlD",
        "outputId": "49c2882e-6a88-4f52-aa82-fb609be87a4a"
      },
      "source": [
        "core_samples_mask"
      ],
      "execution_count": null,
      "outputs": [
        {
          "output_type": "execute_result",
          "data": {
            "text/plain": [
              "array([False,  True, False,  True, False,  True,  True, False, False,\n",
              "        True, False, False, False,  True, False,  True,  True, False,\n",
              "        True, False,  True,  True, False,  True, False, False,  True,\n",
              "       False, False, False, False,  True, False, False, False, False,\n",
              "       False, False, False, False,  True, False,  True,  True, False,\n",
              "       False,  True,  True,  True,  True,  True,  True,  True,  True,\n",
              "        True,  True,  True,  True,  True,  True,  True,  True,  True,\n",
              "        True,  True,  True,  True,  True,  True,  True,  True,  True,\n",
              "        True,  True,  True,  True,  True,  True,  True,  True,  True,\n",
              "        True,  True,  True,  True,  True,  True,  True,  True,  True,\n",
              "        True,  True,  True,  True,  True,  True,  True,  True,  True,\n",
              "        True,  True,  True,  True,  True,  True,  True,  True,  True,\n",
              "        True,  True,  True,  True,  True,  True,  True,  True,  True,\n",
              "        True,  True,  True,  True,  True,  True, False, False,  True,\n",
              "        True,  True,  True,  True,  True,  True,  True,  True,  True,\n",
              "        True,  True,  True,  True,  True,  True,  True,  True,  True,\n",
              "        True,  True,  True,  True, False,  True,  True,  True, False,\n",
              "        True,  True,  True,  True,  True,  True,  True, False,  True,\n",
              "       False,  True, False,  True,  True, False, False, False,  True,\n",
              "       False,  True,  True,  True, False,  True, False,  True,  True,\n",
              "       False, False, False, False, False, False, False, False, False,\n",
              "       False, False, False, False, False, False, False, False, False,\n",
              "       False, False])"
            ]
          },
          "metadata": {
            "tags": []
          },
          "execution_count": 59
        }
      ]
    },
    {
      "cell_type": "code",
      "metadata": {
        "id": "AR4FhFL_sRF7"
      },
      "source": [
        "core_samples_mask[db.core_sample_indices_] = True"
      ],
      "execution_count": null,
      "outputs": []
    },
    {
      "cell_type": "code",
      "metadata": {
        "id": "WbBHviWE7bzV"
      },
      "source": [
        "# Number of clusters in labels, ignoring noise if present.\n"
      ],
      "execution_count": null,
      "outputs": []
    },
    {
      "cell_type": "code",
      "metadata": {
        "id": "VaHcoscu6IYf"
      },
      "source": [
        "n_clusters_ = len(set(labels)) - (1 if -1 in labels else 0)\n",
        "n_noise_ = list(labels).count(-1)"
      ],
      "execution_count": null,
      "outputs": []
    },
    {
      "cell_type": "code",
      "metadata": {
        "colab": {
          "base_uri": "https://localhost:8080/"
        },
        "id": "DM6QWBVw7F-w",
        "outputId": "a68364f3-2de0-45b0-8559-114745d5ca17"
      },
      "source": [
        "print('Estimated number of clusters: %d' % n_clusters_)\n",
        "print('Estimated number of noise points: %d' % n_noise_)\n"
      ],
      "execution_count": null,
      "outputs": [
        {
          "output_type": "stream",
          "text": [
            "Estimated number of clusters: 7\n",
            "Estimated number of noise points: 35\n"
          ],
          "name": "stdout"
        }
      ]
    },
    {
      "cell_type": "code",
      "metadata": {
        "id": "wQNWknVa7Swk"
      },
      "source": [
        "\n",
        "import matplotlib.pyplot as plt\n",
        "# Black removed and is used for noise instead.\n",
        "unique_labels = set(labels)\n",
        "colors = [plt.cm.Spectral(each)\n",
        "          for each in np.linspace(0, 1, len(unique_labels))]\n"
      ],
      "execution_count": null,
      "outputs": []
    },
    {
      "cell_type": "code",
      "metadata": {
        "colab": {
          "base_uri": "https://localhost:8080/"
        },
        "id": "Pj7QizoZ7g1Z",
        "outputId": "d5cbb3d4-9881-43b2-b969-a73d22d474e1"
      },
      "source": [
        "np.linspace(0, 1, len(unique_labels))"
      ],
      "execution_count": null,
      "outputs": [
        {
          "output_type": "execute_result",
          "data": {
            "text/plain": [
              "array([0.        , 0.14285714, 0.28571429, 0.42857143, 0.57142857,\n",
              "       0.71428571, 0.85714286, 1.        ])"
            ]
          },
          "metadata": {
            "tags": []
          },
          "execution_count": 72
        }
      ]
    },
    {
      "cell_type": "code",
      "metadata": {
        "colab": {
          "base_uri": "https://localhost:8080/",
          "height": 281
        },
        "id": "3-NAbHDY7iLz",
        "outputId": "92e08229-88cf-4614-e79a-c8f1dba0f3a2"
      },
      "source": [
        "for k, col in zip(unique_labels, colors):\n",
        "    if k == -1:\n",
        "        # Black used for noise.\n",
        "        col = [0, 0, 0, 1]\n",
        "\n",
        "    class_member_mask = (labels == k)          #noise point will be true else it will be false\n",
        "\n",
        "    xy = X[class_member_mask & core_samples_mask]                             #core sample and not noise sample\n",
        "    plt.plot(xy[:, 0], xy[:, 1], 'o', markerfacecolor=tuple(col),\n",
        "             markeredgecolor='k', markersize=14)\n",
        "\n",
        "    xy = X[class_member_mask & ~core_samples_mask]                            #not core sample i.e boundary samples and not noise sample\n",
        "    plt.plot(xy[:, 0], xy[:, 1], 'o', markerfacecolor=tuple(col),\n",
        "             markeredgecolor='k', markersize=6)\n",
        "\n",
        "plt.title('Estimated number of clusters: %d' % n_clusters_)\n",
        "plt.show()"
      ],
      "execution_count": null,
      "outputs": [
        {
          "output_type": "display_data",
          "data": {
            "image/png": "[encoded data removed]",
            "text/plain": [
              "<Figure size 432x288 with 1 Axes>"
            ]
          },
          "metadata": {
            "tags": [],
            "needs_background": "light"
          }
        }
      ]
    },
    {
      "cell_type": "code",
      "metadata": {
        "colab": {
          "base_uri": "https://localhost:8080/"
        },
        "id": "yZ8O964N9P1L",
        "outputId": "be3f0ed2-7d48-4830-fe75-f3a63ee31bec"
      },
      "source": [
        "labels"
      ],
      "execution_count": null,
      "outputs": [
        {
          "output_type": "execute_result",
          "data": {
            "text/plain": [
              "array([ 2,  0,  1,  0,  2,  0,  1, -1,  1,  0, -1, -1, -1,  0,  1,  0,  2,\n",
              "        0,  2, -1,  2,  0,  1,  0, -1, -1,  2, -1,  2, -1, -1,  0, -1, -1,\n",
              "       -1, -1, -1,  0, -1,  0,  3, -1,  3,  3,  3,  3,  3,  3,  3,  3,  3,\n",
              "        3,  3,  3,  3,  3,  3,  3,  3,  3,  3,  3,  3,  3,  3,  3,  3,  3,\n",
              "        3,  3,  3,  3,  3,  3,  3,  3,  3,  3,  3,  3,  3,  3,  3,  3,  3,\n",
              "        3,  3,  3,  3,  3,  3,  3,  3,  3,  3,  3,  3,  3,  3,  3,  3,  3,\n",
              "        3,  3,  3,  3,  3,  3,  3,  3,  3,  3,  3,  3,  3,  3,  3,  3,  3,\n",
              "        3,  3,  3,  3,  4,  3,  4,  3,  4,  5,  4,  5,  4,  3,  4,  5,  4,\n",
              "        5,  4,  5,  4,  5,  4,  3,  4,  5,  4,  3,  4,  5,  4,  5,  4,  5,\n",
              "        4,  5,  4,  5,  4,  5,  4,  3,  4,  5,  4,  6,  4,  6,  4,  6, -1,\n",
              "        6,  4,  6,  4,  6,  4,  6,  4,  6,  4, -1,  4,  6,  4, -1, -1, -1,\n",
              "       -1, -1, -1, -1, -1, -1, -1, -1, -1, -1, -1, -1, -1])"
            ]
          },
          "metadata": {
            "tags": []
          },
          "execution_count": 83
        }
      ]
    },
    {
      "cell_type": "code",
      "metadata": {
        "colab": {
          "base_uri": "https://localhost:8080/"
        },
        "id": "d-WGatKP9dIf",
        "outputId": "5879e253-7a59-459e-ccd3-87cc358b6abf"
      },
      "source": [
        "class_member_mask"
      ],
      "execution_count": null,
      "outputs": [
        {
          "output_type": "execute_result",
          "data": {
            "text/plain": [
              "array([False, False, False, False, False, False, False,  True, False,\n",
              "       False,  True,  True,  True, False, False, False, False, False,\n",
              "       False,  True, False, False, False, False,  True,  True, False,\n",
              "        True, False,  True,  True, False,  True,  True,  True,  True,\n",
              "        True, False,  True, False, False,  True, False, False, False,\n",
              "       False, False, False, False, False, False, False, False, False,\n",
              "       False, False, False, False, False, False, False, False, False,\n",
              "       False, False, False, False, False, False, False, False, False,\n",
              "       False, False, False, False, False, False, False, False, False,\n",
              "       False, False, False, False, False, False, False, False, False,\n",
              "       False, False, False, False, False, False, False, False, False,\n",
              "       False, False, False, False, False, False, False, False, False,\n",
              "       False, False, False, False, False, False, False, False, False,\n",
              "       False, False, False, False, False, False, False, False, False,\n",
              "       False, False, False, False, False, False, False, False, False,\n",
              "       False, False, False, False, False, False, False, False, False,\n",
              "       False, False, False, False, False, False, False, False, False,\n",
              "       False, False, False, False, False, False, False, False, False,\n",
              "       False, False, False, False, False, False, False,  True, False,\n",
              "       False, False, False, False, False, False, False, False, False,\n",
              "        True, False, False, False,  True,  True,  True,  True,  True,\n",
              "        True,  True,  True,  True,  True,  True,  True,  True,  True,\n",
              "        True,  True])"
            ]
          },
          "metadata": {
            "tags": []
          },
          "execution_count": 82
        }
      ]
    },
    {
      "cell_type": "code",
      "metadata": {
        "id": "Yaw993G69eMB"
      },
      "source": [
        ""
      ],
      "execution_count": null,
      "outputs": []
    }
  ]
}