{
  "nbformat": 4,
  "nbformat_minor": 0,
  "metadata": {
    "colab": {
      "name": "Random Forest.ipynb",
      "provenance": [],
      "authorship_tag": "ABX9TyMazPos12rfzjHdJonwWhEu"
    },
    "kernelspec": {
      "name": "python3",
      "display_name": "Python 3"
    }
  },
  "cells": [
    {
      "cell_type": "code",
      "metadata": {
        "id": "AztqVAIf3pRD"
      },
      "source": [
        "import numpy as np\r\n",
        "import pandas as pd\r\n",
        "import matplotlib.pyplot as plt\r\n",
        "import math"
      ],
      "execution_count": 1,
      "outputs": []
    },
    {
      "cell_type": "code",
      "metadata": {
        "id": "Kj5IfgqT3uXD"
      },
      "source": [
        "from google.colab import drive #toimport google drive data"
      ],
      "execution_count": 2,
      "outputs": []
    },
    {
      "cell_type": "code",
      "metadata": {
        "colab": {
          "base_uri": "https://localhost:8080/"
        },
        "id": "d7yCJaZ33wrh",
        "outputId": "dbc1ea18-a137-40a7-9918-75c17bd1b7e6"
      },
      "source": [
        "drive.mount('/content/drive') #to mount the drive data into colab clound and enterr the activation code"
      ],
      "execution_count": 3,
      "outputs": [
        {
          "output_type": "stream",
          "text": [
            "Mounted at /content/drive\n"
          ],
          "name": "stdout"
        }
      ]
    },
    {
      "cell_type": "code",
      "metadata": {
        "colab": {
          "base_uri": "https://localhost:8080/"
        },
        "id": "yPMyS3F138iY",
        "outputId": "25e9b001-a389-4136-b8d9-ee9683e06678"
      },
      "source": [
        "cd /content/drive/\"My Drive/Colab Notebooks/Linear Regression\""
      ],
      "execution_count": 4,
      "outputs": [
        {
          "output_type": "stream",
          "text": [
            "/content/drive/My Drive/Colab Notebooks/Linear Regression\n"
          ],
          "name": "stdout"
        }
      ]
    },
    {
      "cell_type": "code",
      "metadata": {
        "id": "iXTSXj744d8Z"
      },
      "source": [
        "features=pd.read_csv('temps.csv')"
      ],
      "execution_count": 5,
      "outputs": []
    },
    {
      "cell_type": "code",
      "metadata": {
        "colab": {
          "base_uri": "https://localhost:8080/",
          "height": 195
        },
        "id": "XYaW_tuO4tlC",
        "outputId": "1f21422d-38f5-4ed0-bd2a-153a68af1b0d"
      },
      "source": [
        "features.head(5)"
      ],
      "execution_count": 6,
      "outputs": [
        {
          "output_type": "execute_result",
          "data": {
            "text/html": [
              "<div>\n",
              "<style scoped>\n",
              "    .dataframe tbody tr th:only-of-type {\n",
              "        vertical-align: middle;\n",
              "    }\n",
              "\n",
              "    .dataframe tbody tr th {\n",
              "        vertical-align: top;\n",
              "    }\n",
              "\n",
              "    .dataframe thead th {\n",
              "        text-align: right;\n",
              "    }\n",
              "</style>\n",
              "<table border=\"1\" class=\"dataframe\">\n",
              "  <thead>\n",
              "    <tr style=\"text-align: right;\">\n",
              "      <th></th>\n",
              "      <th>year</th>\n",
              "      <th>month</th>\n",
              "      <th>day</th>\n",
              "      <th>week</th>\n",
              "      <th>temp_2</th>\n",
              "      <th>temp_1</th>\n",
              "      <th>average</th>\n",
              "      <th>actual</th>\n",
              "      <th>forecast_noaa</th>\n",
              "      <th>forecast_acc</th>\n",
              "      <th>forecast_under</th>\n",
              "      <th>friend</th>\n",
              "    </tr>\n",
              "  </thead>\n",
              "  <tbody>\n",
              "    <tr>\n",
              "      <th>0</th>\n",
              "      <td>2016</td>\n",
              "      <td>1</td>\n",
              "      <td>1</td>\n",
              "      <td>Fri</td>\n",
              "      <td>45</td>\n",
              "      <td>45</td>\n",
              "      <td>45.6</td>\n",
              "      <td>45</td>\n",
              "      <td>43</td>\n",
              "      <td>50</td>\n",
              "      <td>44</td>\n",
              "      <td>29</td>\n",
              "    </tr>\n",
              "    <tr>\n",
              "      <th>1</th>\n",
              "      <td>2016</td>\n",
              "      <td>1</td>\n",
              "      <td>2</td>\n",
              "      <td>Sat</td>\n",
              "      <td>44</td>\n",
              "      <td>45</td>\n",
              "      <td>45.7</td>\n",
              "      <td>44</td>\n",
              "      <td>41</td>\n",
              "      <td>50</td>\n",
              "      <td>44</td>\n",
              "      <td>61</td>\n",
              "    </tr>\n",
              "    <tr>\n",
              "      <th>2</th>\n",
              "      <td>2016</td>\n",
              "      <td>1</td>\n",
              "      <td>3</td>\n",
              "      <td>Sun</td>\n",
              "      <td>45</td>\n",
              "      <td>44</td>\n",
              "      <td>45.8</td>\n",
              "      <td>41</td>\n",
              "      <td>43</td>\n",
              "      <td>46</td>\n",
              "      <td>47</td>\n",
              "      <td>56</td>\n",
              "    </tr>\n",
              "    <tr>\n",
              "      <th>3</th>\n",
              "      <td>2016</td>\n",
              "      <td>1</td>\n",
              "      <td>4</td>\n",
              "      <td>Mon</td>\n",
              "      <td>44</td>\n",
              "      <td>41</td>\n",
              "      <td>45.9</td>\n",
              "      <td>40</td>\n",
              "      <td>44</td>\n",
              "      <td>48</td>\n",
              "      <td>46</td>\n",
              "      <td>53</td>\n",
              "    </tr>\n",
              "    <tr>\n",
              "      <th>4</th>\n",
              "      <td>2016</td>\n",
              "      <td>1</td>\n",
              "      <td>5</td>\n",
              "      <td>Tues</td>\n",
              "      <td>41</td>\n",
              "      <td>40</td>\n",
              "      <td>46.0</td>\n",
              "      <td>44</td>\n",
              "      <td>46</td>\n",
              "      <td>46</td>\n",
              "      <td>46</td>\n",
              "      <td>41</td>\n",
              "    </tr>\n",
              "  </tbody>\n",
              "</table>\n",
              "</div>"
            ],
            "text/plain": [
              "   year  month  day  week  ...  forecast_noaa  forecast_acc  forecast_under  friend\n",
              "0  2016      1    1   Fri  ...             43            50              44      29\n",
              "1  2016      1    2   Sat  ...             41            50              44      61\n",
              "2  2016      1    3   Sun  ...             43            46              47      56\n",
              "3  2016      1    4   Mon  ...             44            48              46      53\n",
              "4  2016      1    5  Tues  ...             46            46              46      41\n",
              "\n",
              "[5 rows x 12 columns]"
            ]
          },
          "metadata": {
            "tags": []
          },
          "execution_count": 6
        }
      ]
    },
    {
      "cell_type": "code",
      "metadata": {
        "colab": {
          "base_uri": "https://localhost:8080/"
        },
        "id": "5FIkSilT4vgx",
        "outputId": "c3cab311-1391-4817-c7ff-4669df1d5bb2"
      },
      "source": [
        "features.shape"
      ],
      "execution_count": 8,
      "outputs": [
        {
          "output_type": "execute_result",
          "data": {
            "text/plain": [
              "(348, 12)"
            ]
          },
          "metadata": {
            "tags": []
          },
          "execution_count": 8
        }
      ]
    },
    {
      "cell_type": "code",
      "metadata": {
        "id": "6c5TeHbo5X_m"
      },
      "source": [
        "features.describe()"
      ],
      "execution_count": null,
      "outputs": []
    },
    {
      "cell_type": "code",
      "metadata": {
        "id": "jXvAZGzE5cu4"
      },
      "source": [
        "features=pd.get_dummies(features)\r\n",
        "features.head(5)"
      ],
      "execution_count": null,
      "outputs": []
    },
    {
      "cell_type": "code",
      "metadata": {
        "colab": {
          "base_uri": "https://localhost:8080/"
        },
        "id": "gr85S1KD8Kiu",
        "outputId": "42663c73-f66c-45f7-ca5d-5fdba0eba429"
      },
      "source": [
        "features.shape"
      ],
      "execution_count": 11,
      "outputs": [
        {
          "output_type": "execute_result",
          "data": {
            "text/plain": [
              "(348, 18)"
            ]
          },
          "metadata": {
            "tags": []
          },
          "execution_count": 11
        }
      ]
    },
    {
      "cell_type": "code",
      "metadata": {
        "id": "eQ7paH1l8Xa0"
      },
      "source": [
        "labels=np.array(features['actual'])"
      ],
      "execution_count": 12,
      "outputs": []
    },
    {
      "cell_type": "code",
      "metadata": {
        "id": "s7fme_3h8xG6"
      },
      "source": [
        "features=features.drop('actual',axis=1)"
      ],
      "execution_count": 14,
      "outputs": []
    },
    {
      "cell_type": "code",
      "metadata": {
        "id": "lSoYEGlP8yY9"
      },
      "source": [
        "features"
      ],
      "execution_count": null,
      "outputs": []
    },
    {
      "cell_type": "code",
      "metadata": {
        "id": "7y8R0aw19Hab"
      },
      "source": [
        "feature_list=list(features.columns)\r\n",
        "features=np.array(features)"
      ],
      "execution_count": 16,
      "outputs": []
    },
    {
      "cell_type": "code",
      "metadata": {
        "id": "KzqMyFMV9Zbj"
      },
      "source": [
        "from sklearn.model_selection import train_test_split"
      ],
      "execution_count": 19,
      "outputs": []
    },
    {
      "cell_type": "code",
      "metadata": {
        "id": "7cFtTWxb9eM1"
      },
      "source": [
        "train_features,test_features,train_labels,test_labels=train_test_split(features,labels,test_size=0.25,random_state=42)"
      ],
      "execution_count": 20,
      "outputs": []
    },
    {
      "cell_type": "code",
      "metadata": {
        "colab": {
          "base_uri": "https://localhost:8080/"
        },
        "id": "lT6rxLwv-2Dw",
        "outputId": "a827a99b-9a18-45b1-aca0-48fff9efd6e8"
      },
      "source": [
        "test_labels.shape"
      ],
      "execution_count": 23,
      "outputs": [
        {
          "output_type": "execute_result",
          "data": {
            "text/plain": [
              "(87,)"
            ]
          },
          "metadata": {
            "tags": []
          },
          "execution_count": 23
        }
      ]
    },
    {
      "cell_type": "code",
      "metadata": {
        "id": "-Wv1p_DP--FD"
      },
      "source": [
        "from sklearn.ensemble import RandomForestRegressor"
      ],
      "execution_count": 25,
      "outputs": []
    },
    {
      "cell_type": "code",
      "metadata": {
        "id": "Oj1KlRX0AB00"
      },
      "source": [
        "rf=RandomForestRegressor(n_estimators=1000,random_state=42)"
      ],
      "execution_count": 26,
      "outputs": []
    },
    {
      "cell_type": "code",
      "metadata": {
        "colab": {
          "base_uri": "https://localhost:8080/"
        },
        "id": "BA_ZY4CoA6Lf",
        "outputId": "cb0f4abf-adf2-4374-ccc3-f9d89c801e52"
      },
      "source": [
        "rf.fit(train_features,train_labels)"
      ],
      "execution_count": 27,
      "outputs": [
        {
          "output_type": "execute_result",
          "data": {
            "text/plain": [
              "RandomForestRegressor(bootstrap=True, ccp_alpha=0.0, criterion='mse',\n",
              "                      max_depth=None, max_features='auto', max_leaf_nodes=None,\n",
              "                      max_samples=None, min_impurity_decrease=0.0,\n",
              "                      min_impurity_split=None, min_samples_leaf=1,\n",
              "                      min_samples_split=2, min_weight_fraction_leaf=0.0,\n",
              "                      n_estimators=1000, n_jobs=None, oob_score=False,\n",
              "                      random_state=42, verbose=0, warm_start=False)"
            ]
          },
          "metadata": {
            "tags": []
          },
          "execution_count": 27
        }
      ]
    },
    {
      "cell_type": "code",
      "metadata": {
        "id": "dZqvzz2ZA_d0"
      },
      "source": [
        "predictions=rf.predict(test_features)"
      ],
      "execution_count": 28,
      "outputs": []
    },
    {
      "cell_type": "code",
      "metadata": {
        "id": "cw6WnBx_BRTg"
      },
      "source": [
        "errors=abs(predictions-test_labels)"
      ],
      "execution_count": 30,
      "outputs": []
    },
    {
      "cell_type": "code",
      "metadata": {
        "id": "4Sl8J-AgBTCr"
      },
      "source": [
        "#Mean absolute percentage error\r\n",
        "mape=100*(errors/test_labels)\r\n",
        "\r\n",
        "mean_error=np.mean(mape)"
      ],
      "execution_count": 31,
      "outputs": []
    },
    {
      "cell_type": "code",
      "metadata": {
        "id": "TfQR-B4EB-jF"
      },
      "source": [
        "accuracy=100-mean_error"
      ],
      "execution_count": 32,
      "outputs": []
    },
    {
      "cell_type": "code",
      "metadata": {
        "colab": {
          "base_uri": "https://localhost:8080/"
        },
        "id": "JchS3mSYCC4z",
        "outputId": "3a10ae49-4f7c-42f8-a014-7c724114fb0d"
      },
      "source": [
        "accuracy"
      ],
      "execution_count": 33,
      "outputs": [
        {
          "output_type": "execute_result",
          "data": {
            "text/plain": [
              "93.9325320799977"
            ]
          },
          "metadata": {
            "tags": []
          },
          "execution_count": 33
        }
      ]
    },
    {
      "cell_type": "code",
      "metadata": {
        "id": "ktXemTiDCD06"
      },
      "source": [
        "from sklearn.tree import export_graphviz\r\n",
        "import pydot"
      ],
      "execution_count": 34,
      "outputs": []
    },
    {
      "cell_type": "code",
      "metadata": {
        "id": "8A3lIEwCCZJr"
      },
      "source": [
        "tree=rf.estimators_[5]\r\n",
        "export_graphviz(tree,out_file='tree.dot',feature_names=feature_list,rounded=True,precision=1)"
      ],
      "execution_count": 36,
      "outputs": []
    },
    {
      "cell_type": "code",
      "metadata": {
        "id": "MtMoT-9zDRGO"
      },
      "source": [
        "(graph,)=pydot.graph_from_dot_file('tree.dot')\r\n",
        "graph.write_png('tree.png');"
      ],
      "execution_count": 37,
      "outputs": []
    },
    {
      "cell_type": "code",
      "metadata": {
        "id": "HgN1AE5KDeB4"
      },
      "source": [
        ""
      ],
      "execution_count": null,
      "outputs": []
    }
  ]
}